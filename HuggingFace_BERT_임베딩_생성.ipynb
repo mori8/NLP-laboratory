{
  "nbformat": 4,
  "nbformat_minor": 0,
  "metadata": {
    "colab": {
      "name": "HuggingFace - BERT 임베딩 생성.ipynb",
      "provenance": [],
      "authorship_tag": "ABX9TyM/BWYulrTZ8P+A0v0dXjPg",
      "include_colab_link": true
    },
    "kernelspec": {
      "name": "python3",
      "display_name": "Python 3"
    },
    "language_info": {
      "name": "python"
    },
    "widgets": {
      "application/vnd.jupyter.widget-state+json": {
        "e8e849a2ad194ba9be4c34f9f7293448": {
          "model_module": "@jupyter-widgets/controls",
          "model_name": "HBoxModel",
          "model_module_version": "1.5.0",
          "state": {
            "_view_name": "HBoxView",
            "_dom_classes": [],
            "_model_name": "HBoxModel",
            "_view_module": "@jupyter-widgets/controls",
            "_model_module_version": "1.5.0",
            "_view_count": null,
            "_view_module_version": "1.5.0",
            "box_style": "",
            "layout": "IPY_MODEL_eb52d7f8cd3641d29c7b2e60023c8b3d",
            "_model_module": "@jupyter-widgets/controls",
            "children": [
              "IPY_MODEL_f5d8979e0a4445db9a1519752f543708",
              "IPY_MODEL_7279e32b98154adb8a30acfa112243c6",
              "IPY_MODEL_1223fdb7848045598f5ddc5b31cd3fe1"
            ]
          }
        },
        "eb52d7f8cd3641d29c7b2e60023c8b3d": {
          "model_module": "@jupyter-widgets/base",
          "model_name": "LayoutModel",
          "model_module_version": "1.2.0",
          "state": {
            "_view_name": "LayoutView",
            "grid_template_rows": null,
            "right": null,
            "justify_content": null,
            "_view_module": "@jupyter-widgets/base",
            "overflow": null,
            "_model_module_version": "1.2.0",
            "_view_count": null,
            "flex_flow": null,
            "width": null,
            "min_width": null,
            "border": null,
            "align_items": null,
            "bottom": null,
            "_model_module": "@jupyter-widgets/base",
            "top": null,
            "grid_column": null,
            "overflow_y": null,
            "overflow_x": null,
            "grid_auto_flow": null,
            "grid_area": null,
            "grid_template_columns": null,
            "flex": null,
            "_model_name": "LayoutModel",
            "justify_items": null,
            "grid_row": null,
            "max_height": null,
            "align_content": null,
            "visibility": null,
            "align_self": null,
            "height": null,
            "min_height": null,
            "padding": null,
            "grid_auto_rows": null,
            "grid_gap": null,
            "max_width": null,
            "order": null,
            "_view_module_version": "1.2.0",
            "grid_template_areas": null,
            "object_position": null,
            "object_fit": null,
            "grid_auto_columns": null,
            "margin": null,
            "display": null,
            "left": null
          }
        },
        "f5d8979e0a4445db9a1519752f543708": {
          "model_module": "@jupyter-widgets/controls",
          "model_name": "HTMLModel",
          "model_module_version": "1.5.0",
          "state": {
            "_view_name": "HTMLView",
            "style": "IPY_MODEL_dcb035623fb84f85af76014cafa86fe5",
            "_dom_classes": [],
            "description": "",
            "_model_name": "HTMLModel",
            "placeholder": "​",
            "_view_module": "@jupyter-widgets/controls",
            "_model_module_version": "1.5.0",
            "value": "Downloading: 100%",
            "_view_count": null,
            "_view_module_version": "1.5.0",
            "description_tooltip": null,
            "_model_module": "@jupyter-widgets/controls",
            "layout": "IPY_MODEL_55c20d85af6240a290c1cf2eabf06265"
          }
        },
        "7279e32b98154adb8a30acfa112243c6": {
          "model_module": "@jupyter-widgets/controls",
          "model_name": "FloatProgressModel",
          "model_module_version": "1.5.0",
          "state": {
            "_view_name": "ProgressView",
            "style": "IPY_MODEL_11c25851f10d414482ebf24f3aa47c82",
            "_dom_classes": [],
            "description": "",
            "_model_name": "FloatProgressModel",
            "bar_style": "success",
            "max": 570,
            "_view_module": "@jupyter-widgets/controls",
            "_model_module_version": "1.5.0",
            "value": 570,
            "_view_count": null,
            "_view_module_version": "1.5.0",
            "orientation": "horizontal",
            "min": 0,
            "description_tooltip": null,
            "_model_module": "@jupyter-widgets/controls",
            "layout": "IPY_MODEL_c1cd18e225674d88b203fc08c07d0169"
          }
        },
        "1223fdb7848045598f5ddc5b31cd3fe1": {
          "model_module": "@jupyter-widgets/controls",
          "model_name": "HTMLModel",
          "model_module_version": "1.5.0",
          "state": {
            "_view_name": "HTMLView",
            "style": "IPY_MODEL_41e7fa99959448f3b5270d6e92132a43",
            "_dom_classes": [],
            "description": "",
            "_model_name": "HTMLModel",
            "placeholder": "​",
            "_view_module": "@jupyter-widgets/controls",
            "_model_module_version": "1.5.0",
            "value": " 570/570 [00:00&lt;00:00, 10.8kB/s]",
            "_view_count": null,
            "_view_module_version": "1.5.0",
            "description_tooltip": null,
            "_model_module": "@jupyter-widgets/controls",
            "layout": "IPY_MODEL_4043f95fe2fb4e77b7db73339ca7fb1d"
          }
        },
        "dcb035623fb84f85af76014cafa86fe5": {
          "model_module": "@jupyter-widgets/controls",
          "model_name": "DescriptionStyleModel",
          "model_module_version": "1.5.0",
          "state": {
            "_view_name": "StyleView",
            "_model_name": "DescriptionStyleModel",
            "description_width": "",
            "_view_module": "@jupyter-widgets/base",
            "_model_module_version": "1.5.0",
            "_view_count": null,
            "_view_module_version": "1.2.0",
            "_model_module": "@jupyter-widgets/controls"
          }
        },
        "55c20d85af6240a290c1cf2eabf06265": {
          "model_module": "@jupyter-widgets/base",
          "model_name": "LayoutModel",
          "model_module_version": "1.2.0",
          "state": {
            "_view_name": "LayoutView",
            "grid_template_rows": null,
            "right": null,
            "justify_content": null,
            "_view_module": "@jupyter-widgets/base",
            "overflow": null,
            "_model_module_version": "1.2.0",
            "_view_count": null,
            "flex_flow": null,
            "width": null,
            "min_width": null,
            "border": null,
            "align_items": null,
            "bottom": null,
            "_model_module": "@jupyter-widgets/base",
            "top": null,
            "grid_column": null,
            "overflow_y": null,
            "overflow_x": null,
            "grid_auto_flow": null,
            "grid_area": null,
            "grid_template_columns": null,
            "flex": null,
            "_model_name": "LayoutModel",
            "justify_items": null,
            "grid_row": null,
            "max_height": null,
            "align_content": null,
            "visibility": null,
            "align_self": null,
            "height": null,
            "min_height": null,
            "padding": null,
            "grid_auto_rows": null,
            "grid_gap": null,
            "max_width": null,
            "order": null,
            "_view_module_version": "1.2.0",
            "grid_template_areas": null,
            "object_position": null,
            "object_fit": null,
            "grid_auto_columns": null,
            "margin": null,
            "display": null,
            "left": null
          }
        },
        "11c25851f10d414482ebf24f3aa47c82": {
          "model_module": "@jupyter-widgets/controls",
          "model_name": "ProgressStyleModel",
          "model_module_version": "1.5.0",
          "state": {
            "_view_name": "StyleView",
            "_model_name": "ProgressStyleModel",
            "description_width": "",
            "_view_module": "@jupyter-widgets/base",
            "_model_module_version": "1.5.0",
            "_view_count": null,
            "_view_module_version": "1.2.0",
            "bar_color": null,
            "_model_module": "@jupyter-widgets/controls"
          }
        },
        "c1cd18e225674d88b203fc08c07d0169": {
          "model_module": "@jupyter-widgets/base",
          "model_name": "LayoutModel",
          "model_module_version": "1.2.0",
          "state": {
            "_view_name": "LayoutView",
            "grid_template_rows": null,
            "right": null,
            "justify_content": null,
            "_view_module": "@jupyter-widgets/base",
            "overflow": null,
            "_model_module_version": "1.2.0",
            "_view_count": null,
            "flex_flow": null,
            "width": null,
            "min_width": null,
            "border": null,
            "align_items": null,
            "bottom": null,
            "_model_module": "@jupyter-widgets/base",
            "top": null,
            "grid_column": null,
            "overflow_y": null,
            "overflow_x": null,
            "grid_auto_flow": null,
            "grid_area": null,
            "grid_template_columns": null,
            "flex": null,
            "_model_name": "LayoutModel",
            "justify_items": null,
            "grid_row": null,
            "max_height": null,
            "align_content": null,
            "visibility": null,
            "align_self": null,
            "height": null,
            "min_height": null,
            "padding": null,
            "grid_auto_rows": null,
            "grid_gap": null,
            "max_width": null,
            "order": null,
            "_view_module_version": "1.2.0",
            "grid_template_areas": null,
            "object_position": null,
            "object_fit": null,
            "grid_auto_columns": null,
            "margin": null,
            "display": null,
            "left": null
          }
        },
        "41e7fa99959448f3b5270d6e92132a43": {
          "model_module": "@jupyter-widgets/controls",
          "model_name": "DescriptionStyleModel",
          "model_module_version": "1.5.0",
          "state": {
            "_view_name": "StyleView",
            "_model_name": "DescriptionStyleModel",
            "description_width": "",
            "_view_module": "@jupyter-widgets/base",
            "_model_module_version": "1.5.0",
            "_view_count": null,
            "_view_module_version": "1.2.0",
            "_model_module": "@jupyter-widgets/controls"
          }
        },
        "4043f95fe2fb4e77b7db73339ca7fb1d": {
          "model_module": "@jupyter-widgets/base",
          "model_name": "LayoutModel",
          "model_module_version": "1.2.0",
          "state": {
            "_view_name": "LayoutView",
            "grid_template_rows": null,
            "right": null,
            "justify_content": null,
            "_view_module": "@jupyter-widgets/base",
            "overflow": null,
            "_model_module_version": "1.2.0",
            "_view_count": null,
            "flex_flow": null,
            "width": null,
            "min_width": null,
            "border": null,
            "align_items": null,
            "bottom": null,
            "_model_module": "@jupyter-widgets/base",
            "top": null,
            "grid_column": null,
            "overflow_y": null,
            "overflow_x": null,
            "grid_auto_flow": null,
            "grid_area": null,
            "grid_template_columns": null,
            "flex": null,
            "_model_name": "LayoutModel",
            "justify_items": null,
            "grid_row": null,
            "max_height": null,
            "align_content": null,
            "visibility": null,
            "align_self": null,
            "height": null,
            "min_height": null,
            "padding": null,
            "grid_auto_rows": null,
            "grid_gap": null,
            "max_width": null,
            "order": null,
            "_view_module_version": "1.2.0",
            "grid_template_areas": null,
            "object_position": null,
            "object_fit": null,
            "grid_auto_columns": null,
            "margin": null,
            "display": null,
            "left": null
          }
        },
        "431444c8e0fb4408af49dfe3f079a830": {
          "model_module": "@jupyter-widgets/controls",
          "model_name": "HBoxModel",
          "model_module_version": "1.5.0",
          "state": {
            "_view_name": "HBoxView",
            "_dom_classes": [],
            "_model_name": "HBoxModel",
            "_view_module": "@jupyter-widgets/controls",
            "_model_module_version": "1.5.0",
            "_view_count": null,
            "_view_module_version": "1.5.0",
            "box_style": "",
            "layout": "IPY_MODEL_267f9048c388441da0da441620f46140",
            "_model_module": "@jupyter-widgets/controls",
            "children": [
              "IPY_MODEL_5e93cea4ad5742f8b3c22a0fa02b9e09",
              "IPY_MODEL_9e3265b6d3fc4605a816e529de6365ad",
              "IPY_MODEL_670dcdb50ad94f398691657c58fbfa3b"
            ]
          }
        },
        "267f9048c388441da0da441620f46140": {
          "model_module": "@jupyter-widgets/base",
          "model_name": "LayoutModel",
          "model_module_version": "1.2.0",
          "state": {
            "_view_name": "LayoutView",
            "grid_template_rows": null,
            "right": null,
            "justify_content": null,
            "_view_module": "@jupyter-widgets/base",
            "overflow": null,
            "_model_module_version": "1.2.0",
            "_view_count": null,
            "flex_flow": null,
            "width": null,
            "min_width": null,
            "border": null,
            "align_items": null,
            "bottom": null,
            "_model_module": "@jupyter-widgets/base",
            "top": null,
            "grid_column": null,
            "overflow_y": null,
            "overflow_x": null,
            "grid_auto_flow": null,
            "grid_area": null,
            "grid_template_columns": null,
            "flex": null,
            "_model_name": "LayoutModel",
            "justify_items": null,
            "grid_row": null,
            "max_height": null,
            "align_content": null,
            "visibility": null,
            "align_self": null,
            "height": null,
            "min_height": null,
            "padding": null,
            "grid_auto_rows": null,
            "grid_gap": null,
            "max_width": null,
            "order": null,
            "_view_module_version": "1.2.0",
            "grid_template_areas": null,
            "object_position": null,
            "object_fit": null,
            "grid_auto_columns": null,
            "margin": null,
            "display": null,
            "left": null
          }
        },
        "5e93cea4ad5742f8b3c22a0fa02b9e09": {
          "model_module": "@jupyter-widgets/controls",
          "model_name": "HTMLModel",
          "model_module_version": "1.5.0",
          "state": {
            "_view_name": "HTMLView",
            "style": "IPY_MODEL_a28d941e5eb146f88c994d7dfeeadbb5",
            "_dom_classes": [],
            "description": "",
            "_model_name": "HTMLModel",
            "placeholder": "​",
            "_view_module": "@jupyter-widgets/controls",
            "_model_module_version": "1.5.0",
            "value": "Downloading: 100%",
            "_view_count": null,
            "_view_module_version": "1.5.0",
            "description_tooltip": null,
            "_model_module": "@jupyter-widgets/controls",
            "layout": "IPY_MODEL_0045ce4ea7664788b881302ab761970a"
          }
        },
        "9e3265b6d3fc4605a816e529de6365ad": {
          "model_module": "@jupyter-widgets/controls",
          "model_name": "FloatProgressModel",
          "model_module_version": "1.5.0",
          "state": {
            "_view_name": "ProgressView",
            "style": "IPY_MODEL_9beaf0e06a5d49f685cb002a109b7cbd",
            "_dom_classes": [],
            "description": "",
            "_model_name": "FloatProgressModel",
            "bar_style": "success",
            "max": 440473133,
            "_view_module": "@jupyter-widgets/controls",
            "_model_module_version": "1.5.0",
            "value": 440473133,
            "_view_count": null,
            "_view_module_version": "1.5.0",
            "orientation": "horizontal",
            "min": 0,
            "description_tooltip": null,
            "_model_module": "@jupyter-widgets/controls",
            "layout": "IPY_MODEL_982d092edb66433db810cb0be19def1e"
          }
        },
        "670dcdb50ad94f398691657c58fbfa3b": {
          "model_module": "@jupyter-widgets/controls",
          "model_name": "HTMLModel",
          "model_module_version": "1.5.0",
          "state": {
            "_view_name": "HTMLView",
            "style": "IPY_MODEL_15d1b2d510c646f7926b16445df4d0b0",
            "_dom_classes": [],
            "description": "",
            "_model_name": "HTMLModel",
            "placeholder": "​",
            "_view_module": "@jupyter-widgets/controls",
            "_model_module_version": "1.5.0",
            "value": " 440M/440M [00:08&lt;00:00, 56.2MB/s]",
            "_view_count": null,
            "_view_module_version": "1.5.0",
            "description_tooltip": null,
            "_model_module": "@jupyter-widgets/controls",
            "layout": "IPY_MODEL_887bd5a2285841278c9f852eae877860"
          }
        },
        "a28d941e5eb146f88c994d7dfeeadbb5": {
          "model_module": "@jupyter-widgets/controls",
          "model_name": "DescriptionStyleModel",
          "model_module_version": "1.5.0",
          "state": {
            "_view_name": "StyleView",
            "_model_name": "DescriptionStyleModel",
            "description_width": "",
            "_view_module": "@jupyter-widgets/base",
            "_model_module_version": "1.5.0",
            "_view_count": null,
            "_view_module_version": "1.2.0",
            "_model_module": "@jupyter-widgets/controls"
          }
        },
        "0045ce4ea7664788b881302ab761970a": {
          "model_module": "@jupyter-widgets/base",
          "model_name": "LayoutModel",
          "model_module_version": "1.2.0",
          "state": {
            "_view_name": "LayoutView",
            "grid_template_rows": null,
            "right": null,
            "justify_content": null,
            "_view_module": "@jupyter-widgets/base",
            "overflow": null,
            "_model_module_version": "1.2.0",
            "_view_count": null,
            "flex_flow": null,
            "width": null,
            "min_width": null,
            "border": null,
            "align_items": null,
            "bottom": null,
            "_model_module": "@jupyter-widgets/base",
            "top": null,
            "grid_column": null,
            "overflow_y": null,
            "overflow_x": null,
            "grid_auto_flow": null,
            "grid_area": null,
            "grid_template_columns": null,
            "flex": null,
            "_model_name": "LayoutModel",
            "justify_items": null,
            "grid_row": null,
            "max_height": null,
            "align_content": null,
            "visibility": null,
            "align_self": null,
            "height": null,
            "min_height": null,
            "padding": null,
            "grid_auto_rows": null,
            "grid_gap": null,
            "max_width": null,
            "order": null,
            "_view_module_version": "1.2.0",
            "grid_template_areas": null,
            "object_position": null,
            "object_fit": null,
            "grid_auto_columns": null,
            "margin": null,
            "display": null,
            "left": null
          }
        },
        "9beaf0e06a5d49f685cb002a109b7cbd": {
          "model_module": "@jupyter-widgets/controls",
          "model_name": "ProgressStyleModel",
          "model_module_version": "1.5.0",
          "state": {
            "_view_name": "StyleView",
            "_model_name": "ProgressStyleModel",
            "description_width": "",
            "_view_module": "@jupyter-widgets/base",
            "_model_module_version": "1.5.0",
            "_view_count": null,
            "_view_module_version": "1.2.0",
            "bar_color": null,
            "_model_module": "@jupyter-widgets/controls"
          }
        },
        "982d092edb66433db810cb0be19def1e": {
          "model_module": "@jupyter-widgets/base",
          "model_name": "LayoutModel",
          "model_module_version": "1.2.0",
          "state": {
            "_view_name": "LayoutView",
            "grid_template_rows": null,
            "right": null,
            "justify_content": null,
            "_view_module": "@jupyter-widgets/base",
            "overflow": null,
            "_model_module_version": "1.2.0",
            "_view_count": null,
            "flex_flow": null,
            "width": null,
            "min_width": null,
            "border": null,
            "align_items": null,
            "bottom": null,
            "_model_module": "@jupyter-widgets/base",
            "top": null,
            "grid_column": null,
            "overflow_y": null,
            "overflow_x": null,
            "grid_auto_flow": null,
            "grid_area": null,
            "grid_template_columns": null,
            "flex": null,
            "_model_name": "LayoutModel",
            "justify_items": null,
            "grid_row": null,
            "max_height": null,
            "align_content": null,
            "visibility": null,
            "align_self": null,
            "height": null,
            "min_height": null,
            "padding": null,
            "grid_auto_rows": null,
            "grid_gap": null,
            "max_width": null,
            "order": null,
            "_view_module_version": "1.2.0",
            "grid_template_areas": null,
            "object_position": null,
            "object_fit": null,
            "grid_auto_columns": null,
            "margin": null,
            "display": null,
            "left": null
          }
        },
        "15d1b2d510c646f7926b16445df4d0b0": {
          "model_module": "@jupyter-widgets/controls",
          "model_name": "DescriptionStyleModel",
          "model_module_version": "1.5.0",
          "state": {
            "_view_name": "StyleView",
            "_model_name": "DescriptionStyleModel",
            "description_width": "",
            "_view_module": "@jupyter-widgets/base",
            "_model_module_version": "1.5.0",
            "_view_count": null,
            "_view_module_version": "1.2.0",
            "_model_module": "@jupyter-widgets/controls"
          }
        },
        "887bd5a2285841278c9f852eae877860": {
          "model_module": "@jupyter-widgets/base",
          "model_name": "LayoutModel",
          "model_module_version": "1.2.0",
          "state": {
            "_view_name": "LayoutView",
            "grid_template_rows": null,
            "right": null,
            "justify_content": null,
            "_view_module": "@jupyter-widgets/base",
            "overflow": null,
            "_model_module_version": "1.2.0",
            "_view_count": null,
            "flex_flow": null,
            "width": null,
            "min_width": null,
            "border": null,
            "align_items": null,
            "bottom": null,
            "_model_module": "@jupyter-widgets/base",
            "top": null,
            "grid_column": null,
            "overflow_y": null,
            "overflow_x": null,
            "grid_auto_flow": null,
            "grid_area": null,
            "grid_template_columns": null,
            "flex": null,
            "_model_name": "LayoutModel",
            "justify_items": null,
            "grid_row": null,
            "max_height": null,
            "align_content": null,
            "visibility": null,
            "align_self": null,
            "height": null,
            "min_height": null,
            "padding": null,
            "grid_auto_rows": null,
            "grid_gap": null,
            "max_width": null,
            "order": null,
            "_view_module_version": "1.2.0",
            "grid_template_areas": null,
            "object_position": null,
            "object_fit": null,
            "grid_auto_columns": null,
            "margin": null,
            "display": null,
            "left": null
          }
        },
        "da339afc9a754e99a7dae81e86f175af": {
          "model_module": "@jupyter-widgets/controls",
          "model_name": "HBoxModel",
          "model_module_version": "1.5.0",
          "state": {
            "_view_name": "HBoxView",
            "_dom_classes": [],
            "_model_name": "HBoxModel",
            "_view_module": "@jupyter-widgets/controls",
            "_model_module_version": "1.5.0",
            "_view_count": null,
            "_view_module_version": "1.5.0",
            "box_style": "",
            "layout": "IPY_MODEL_d1eef7736e704747ba9b7d5ad266968d",
            "_model_module": "@jupyter-widgets/controls",
            "children": [
              "IPY_MODEL_ac663720f8954656845fd85a1e1ec822",
              "IPY_MODEL_90c0733cc6dd42b39be7d682677ffe87",
              "IPY_MODEL_6bcf8fa5de1e47dda9ba70bc3ac7dcf9"
            ]
          }
        },
        "d1eef7736e704747ba9b7d5ad266968d": {
          "model_module": "@jupyter-widgets/base",
          "model_name": "LayoutModel",
          "model_module_version": "1.2.0",
          "state": {
            "_view_name": "LayoutView",
            "grid_template_rows": null,
            "right": null,
            "justify_content": null,
            "_view_module": "@jupyter-widgets/base",
            "overflow": null,
            "_model_module_version": "1.2.0",
            "_view_count": null,
            "flex_flow": null,
            "width": null,
            "min_width": null,
            "border": null,
            "align_items": null,
            "bottom": null,
            "_model_module": "@jupyter-widgets/base",
            "top": null,
            "grid_column": null,
            "overflow_y": null,
            "overflow_x": null,
            "grid_auto_flow": null,
            "grid_area": null,
            "grid_template_columns": null,
            "flex": null,
            "_model_name": "LayoutModel",
            "justify_items": null,
            "grid_row": null,
            "max_height": null,
            "align_content": null,
            "visibility": null,
            "align_self": null,
            "height": null,
            "min_height": null,
            "padding": null,
            "grid_auto_rows": null,
            "grid_gap": null,
            "max_width": null,
            "order": null,
            "_view_module_version": "1.2.0",
            "grid_template_areas": null,
            "object_position": null,
            "object_fit": null,
            "grid_auto_columns": null,
            "margin": null,
            "display": null,
            "left": null
          }
        },
        "ac663720f8954656845fd85a1e1ec822": {
          "model_module": "@jupyter-widgets/controls",
          "model_name": "HTMLModel",
          "model_module_version": "1.5.0",
          "state": {
            "_view_name": "HTMLView",
            "style": "IPY_MODEL_7d3270d6e5904b898d6a8f7afbe4bad7",
            "_dom_classes": [],
            "description": "",
            "_model_name": "HTMLModel",
            "placeholder": "​",
            "_view_module": "@jupyter-widgets/controls",
            "_model_module_version": "1.5.0",
            "value": "Downloading: 100%",
            "_view_count": null,
            "_view_module_version": "1.5.0",
            "description_tooltip": null,
            "_model_module": "@jupyter-widgets/controls",
            "layout": "IPY_MODEL_c845db12afcb43d2864a6a423ddd671c"
          }
        },
        "90c0733cc6dd42b39be7d682677ffe87": {
          "model_module": "@jupyter-widgets/controls",
          "model_name": "FloatProgressModel",
          "model_module_version": "1.5.0",
          "state": {
            "_view_name": "ProgressView",
            "style": "IPY_MODEL_213e5798c3d04136af165bf482bf5c30",
            "_dom_classes": [],
            "description": "",
            "_model_name": "FloatProgressModel",
            "bar_style": "success",
            "max": 231508,
            "_view_module": "@jupyter-widgets/controls",
            "_model_module_version": "1.5.0",
            "value": 231508,
            "_view_count": null,
            "_view_module_version": "1.5.0",
            "orientation": "horizontal",
            "min": 0,
            "description_tooltip": null,
            "_model_module": "@jupyter-widgets/controls",
            "layout": "IPY_MODEL_0ebb7778cd1e4fb28ef9dd987679cded"
          }
        },
        "6bcf8fa5de1e47dda9ba70bc3ac7dcf9": {
          "model_module": "@jupyter-widgets/controls",
          "model_name": "HTMLModel",
          "model_module_version": "1.5.0",
          "state": {
            "_view_name": "HTMLView",
            "style": "IPY_MODEL_d1e418c420214d08853d2db611d5596f",
            "_dom_classes": [],
            "description": "",
            "_model_name": "HTMLModel",
            "placeholder": "​",
            "_view_module": "@jupyter-widgets/controls",
            "_model_module_version": "1.5.0",
            "value": " 232k/232k [00:00&lt;00:00, 635kB/s]",
            "_view_count": null,
            "_view_module_version": "1.5.0",
            "description_tooltip": null,
            "_model_module": "@jupyter-widgets/controls",
            "layout": "IPY_MODEL_59568bf9078b409294f238c7835a7084"
          }
        },
        "7d3270d6e5904b898d6a8f7afbe4bad7": {
          "model_module": "@jupyter-widgets/controls",
          "model_name": "DescriptionStyleModel",
          "model_module_version": "1.5.0",
          "state": {
            "_view_name": "StyleView",
            "_model_name": "DescriptionStyleModel",
            "description_width": "",
            "_view_module": "@jupyter-widgets/base",
            "_model_module_version": "1.5.0",
            "_view_count": null,
            "_view_module_version": "1.2.0",
            "_model_module": "@jupyter-widgets/controls"
          }
        },
        "c845db12afcb43d2864a6a423ddd671c": {
          "model_module": "@jupyter-widgets/base",
          "model_name": "LayoutModel",
          "model_module_version": "1.2.0",
          "state": {
            "_view_name": "LayoutView",
            "grid_template_rows": null,
            "right": null,
            "justify_content": null,
            "_view_module": "@jupyter-widgets/base",
            "overflow": null,
            "_model_module_version": "1.2.0",
            "_view_count": null,
            "flex_flow": null,
            "width": null,
            "min_width": null,
            "border": null,
            "align_items": null,
            "bottom": null,
            "_model_module": "@jupyter-widgets/base",
            "top": null,
            "grid_column": null,
            "overflow_y": null,
            "overflow_x": null,
            "grid_auto_flow": null,
            "grid_area": null,
            "grid_template_columns": null,
            "flex": null,
            "_model_name": "LayoutModel",
            "justify_items": null,
            "grid_row": null,
            "max_height": null,
            "align_content": null,
            "visibility": null,
            "align_self": null,
            "height": null,
            "min_height": null,
            "padding": null,
            "grid_auto_rows": null,
            "grid_gap": null,
            "max_width": null,
            "order": null,
            "_view_module_version": "1.2.0",
            "grid_template_areas": null,
            "object_position": null,
            "object_fit": null,
            "grid_auto_columns": null,
            "margin": null,
            "display": null,
            "left": null
          }
        },
        "213e5798c3d04136af165bf482bf5c30": {
          "model_module": "@jupyter-widgets/controls",
          "model_name": "ProgressStyleModel",
          "model_module_version": "1.5.0",
          "state": {
            "_view_name": "StyleView",
            "_model_name": "ProgressStyleModel",
            "description_width": "",
            "_view_module": "@jupyter-widgets/base",
            "_model_module_version": "1.5.0",
            "_view_count": null,
            "_view_module_version": "1.2.0",
            "bar_color": null,
            "_model_module": "@jupyter-widgets/controls"
          }
        },
        "0ebb7778cd1e4fb28ef9dd987679cded": {
          "model_module": "@jupyter-widgets/base",
          "model_name": "LayoutModel",
          "model_module_version": "1.2.0",
          "state": {
            "_view_name": "LayoutView",
            "grid_template_rows": null,
            "right": null,
            "justify_content": null,
            "_view_module": "@jupyter-widgets/base",
            "overflow": null,
            "_model_module_version": "1.2.0",
            "_view_count": null,
            "flex_flow": null,
            "width": null,
            "min_width": null,
            "border": null,
            "align_items": null,
            "bottom": null,
            "_model_module": "@jupyter-widgets/base",
            "top": null,
            "grid_column": null,
            "overflow_y": null,
            "overflow_x": null,
            "grid_auto_flow": null,
            "grid_area": null,
            "grid_template_columns": null,
            "flex": null,
            "_model_name": "LayoutModel",
            "justify_items": null,
            "grid_row": null,
            "max_height": null,
            "align_content": null,
            "visibility": null,
            "align_self": null,
            "height": null,
            "min_height": null,
            "padding": null,
            "grid_auto_rows": null,
            "grid_gap": null,
            "max_width": null,
            "order": null,
            "_view_module_version": "1.2.0",
            "grid_template_areas": null,
            "object_position": null,
            "object_fit": null,
            "grid_auto_columns": null,
            "margin": null,
            "display": null,
            "left": null
          }
        },
        "d1e418c420214d08853d2db611d5596f": {
          "model_module": "@jupyter-widgets/controls",
          "model_name": "DescriptionStyleModel",
          "model_module_version": "1.5.0",
          "state": {
            "_view_name": "StyleView",
            "_model_name": "DescriptionStyleModel",
            "description_width": "",
            "_view_module": "@jupyter-widgets/base",
            "_model_module_version": "1.5.0",
            "_view_count": null,
            "_view_module_version": "1.2.0",
            "_model_module": "@jupyter-widgets/controls"
          }
        },
        "59568bf9078b409294f238c7835a7084": {
          "model_module": "@jupyter-widgets/base",
          "model_name": "LayoutModel",
          "model_module_version": "1.2.0",
          "state": {
            "_view_name": "LayoutView",
            "grid_template_rows": null,
            "right": null,
            "justify_content": null,
            "_view_module": "@jupyter-widgets/base",
            "overflow": null,
            "_model_module_version": "1.2.0",
            "_view_count": null,
            "flex_flow": null,
            "width": null,
            "min_width": null,
            "border": null,
            "align_items": null,
            "bottom": null,
            "_model_module": "@jupyter-widgets/base",
            "top": null,
            "grid_column": null,
            "overflow_y": null,
            "overflow_x": null,
            "grid_auto_flow": null,
            "grid_area": null,
            "grid_template_columns": null,
            "flex": null,
            "_model_name": "LayoutModel",
            "justify_items": null,
            "grid_row": null,
            "max_height": null,
            "align_content": null,
            "visibility": null,
            "align_self": null,
            "height": null,
            "min_height": null,
            "padding": null,
            "grid_auto_rows": null,
            "grid_gap": null,
            "max_width": null,
            "order": null,
            "_view_module_version": "1.2.0",
            "grid_template_areas": null,
            "object_position": null,
            "object_fit": null,
            "grid_auto_columns": null,
            "margin": null,
            "display": null,
            "left": null
          }
        }
      }
    }
  },
  "cells": [
    {
      "cell_type": "markdown",
      "metadata": {
        "id": "view-in-github",
        "colab_type": "text"
      },
      "source": [
        "<a href=\"https://colab.research.google.com/github/mori8/NLP-laboratory/blob/main/HuggingFace_BERT_%EC%9E%84%EB%B2%A0%EB%94%A9_%EC%83%9D%EC%84%B1.ipynb\" target=\"_parent\"><img src=\"https://colab.research.google.com/assets/colab-badge.svg\" alt=\"Open In Colab\"/></a>"
      ]
    },
    {
      "cell_type": "code",
      "execution_count": null,
      "metadata": {
        "colab": {
          "base_uri": "https://localhost:8080/"
        },
        "id": "JNZgSl_WLbKi",
        "outputId": "00cf88d9-9b24-4e35-a24d-efdf842b00b3"
      },
      "outputs": [
        {
          "output_type": "stream",
          "name": "stdout",
          "text": [
            "Collecting transformers==3.5.1\n",
            "  Downloading transformers-3.5.1-py3-none-any.whl (1.3 MB)\n",
            "\u001b[?25l\r\u001b[K     |▎                               | 10 kB 27.1 MB/s eta 0:00:01\r\u001b[K     |▌                               | 20 kB 35.3 MB/s eta 0:00:01\r\u001b[K     |▊                               | 30 kB 17.6 MB/s eta 0:00:01\r\u001b[K     |█                               | 40 kB 12.3 MB/s eta 0:00:01\r\u001b[K     |█▎                              | 51 kB 7.6 MB/s eta 0:00:01\r\u001b[K     |█▌                              | 61 kB 8.1 MB/s eta 0:00:01\r\u001b[K     |█▊                              | 71 kB 7.4 MB/s eta 0:00:01\r\u001b[K     |██                              | 81 kB 8.3 MB/s eta 0:00:01\r\u001b[K     |██▎                             | 92 kB 6.5 MB/s eta 0:00:01\r\u001b[K     |██▌                             | 102 kB 6.9 MB/s eta 0:00:01\r\u001b[K     |██▊                             | 112 kB 6.9 MB/s eta 0:00:01\r\u001b[K     |███                             | 122 kB 6.9 MB/s eta 0:00:01\r\u001b[K     |███▎                            | 133 kB 6.9 MB/s eta 0:00:01\r\u001b[K     |███▌                            | 143 kB 6.9 MB/s eta 0:00:01\r\u001b[K     |███▉                            | 153 kB 6.9 MB/s eta 0:00:01\r\u001b[K     |████                            | 163 kB 6.9 MB/s eta 0:00:01\r\u001b[K     |████▎                           | 174 kB 6.9 MB/s eta 0:00:01\r\u001b[K     |████▌                           | 184 kB 6.9 MB/s eta 0:00:01\r\u001b[K     |████▉                           | 194 kB 6.9 MB/s eta 0:00:01\r\u001b[K     |█████                           | 204 kB 6.9 MB/s eta 0:00:01\r\u001b[K     |█████▎                          | 215 kB 6.9 MB/s eta 0:00:01\r\u001b[K     |█████▌                          | 225 kB 6.9 MB/s eta 0:00:01\r\u001b[K     |█████▉                          | 235 kB 6.9 MB/s eta 0:00:01\r\u001b[K     |██████                          | 245 kB 6.9 MB/s eta 0:00:01\r\u001b[K     |██████▎                         | 256 kB 6.9 MB/s eta 0:00:01\r\u001b[K     |██████▌                         | 266 kB 6.9 MB/s eta 0:00:01\r\u001b[K     |██████▉                         | 276 kB 6.9 MB/s eta 0:00:01\r\u001b[K     |███████                         | 286 kB 6.9 MB/s eta 0:00:01\r\u001b[K     |███████▎                        | 296 kB 6.9 MB/s eta 0:00:01\r\u001b[K     |███████▋                        | 307 kB 6.9 MB/s eta 0:00:01\r\u001b[K     |███████▉                        | 317 kB 6.9 MB/s eta 0:00:01\r\u001b[K     |████████                        | 327 kB 6.9 MB/s eta 0:00:01\r\u001b[K     |████████▎                       | 337 kB 6.9 MB/s eta 0:00:01\r\u001b[K     |████████▋                       | 348 kB 6.9 MB/s eta 0:00:01\r\u001b[K     |████████▉                       | 358 kB 6.9 MB/s eta 0:00:01\r\u001b[K     |█████████                       | 368 kB 6.9 MB/s eta 0:00:01\r\u001b[K     |█████████▎                      | 378 kB 6.9 MB/s eta 0:00:01\r\u001b[K     |█████████▋                      | 389 kB 6.9 MB/s eta 0:00:01\r\u001b[K     |█████████▉                      | 399 kB 6.9 MB/s eta 0:00:01\r\u001b[K     |██████████                      | 409 kB 6.9 MB/s eta 0:00:01\r\u001b[K     |██████████▎                     | 419 kB 6.9 MB/s eta 0:00:01\r\u001b[K     |██████████▋                     | 430 kB 6.9 MB/s eta 0:00:01\r\u001b[K     |██████████▉                     | 440 kB 6.9 MB/s eta 0:00:01\r\u001b[K     |███████████                     | 450 kB 6.9 MB/s eta 0:00:01\r\u001b[K     |███████████▍                    | 460 kB 6.9 MB/s eta 0:00:01\r\u001b[K     |███████████▋                    | 471 kB 6.9 MB/s eta 0:00:01\r\u001b[K     |███████████▉                    | 481 kB 6.9 MB/s eta 0:00:01\r\u001b[K     |████████████                    | 491 kB 6.9 MB/s eta 0:00:01\r\u001b[K     |████████████▍                   | 501 kB 6.9 MB/s eta 0:00:01\r\u001b[K     |████████████▋                   | 512 kB 6.9 MB/s eta 0:00:01\r\u001b[K     |████████████▉                   | 522 kB 6.9 MB/s eta 0:00:01\r\u001b[K     |█████████████                   | 532 kB 6.9 MB/s eta 0:00:01\r\u001b[K     |█████████████▍                  | 542 kB 6.9 MB/s eta 0:00:01\r\u001b[K     |█████████████▋                  | 552 kB 6.9 MB/s eta 0:00:01\r\u001b[K     |█████████████▉                  | 563 kB 6.9 MB/s eta 0:00:01\r\u001b[K     |██████████████                  | 573 kB 6.9 MB/s eta 0:00:01\r\u001b[K     |██████████████▍                 | 583 kB 6.9 MB/s eta 0:00:01\r\u001b[K     |██████████████▋                 | 593 kB 6.9 MB/s eta 0:00:01\r\u001b[K     |██████████████▉                 | 604 kB 6.9 MB/s eta 0:00:01\r\u001b[K     |███████████████▏                | 614 kB 6.9 MB/s eta 0:00:01\r\u001b[K     |███████████████▍                | 624 kB 6.9 MB/s eta 0:00:01\r\u001b[K     |███████████████▋                | 634 kB 6.9 MB/s eta 0:00:01\r\u001b[K     |███████████████▉                | 645 kB 6.9 MB/s eta 0:00:01\r\u001b[K     |████████████████▏               | 655 kB 6.9 MB/s eta 0:00:01\r\u001b[K     |████████████████▍               | 665 kB 6.9 MB/s eta 0:00:01\r\u001b[K     |████████████████▋               | 675 kB 6.9 MB/s eta 0:00:01\r\u001b[K     |████████████████▉               | 686 kB 6.9 MB/s eta 0:00:01\r\u001b[K     |█████████████████▏              | 696 kB 6.9 MB/s eta 0:00:01\r\u001b[K     |█████████████████▍              | 706 kB 6.9 MB/s eta 0:00:01\r\u001b[K     |█████████████████▋              | 716 kB 6.9 MB/s eta 0:00:01\r\u001b[K     |██████████████████              | 727 kB 6.9 MB/s eta 0:00:01\r\u001b[K     |██████████████████▏             | 737 kB 6.9 MB/s eta 0:00:01\r\u001b[K     |██████████████████▍             | 747 kB 6.9 MB/s eta 0:00:01\r\u001b[K     |██████████████████▋             | 757 kB 6.9 MB/s eta 0:00:01\r\u001b[K     |███████████████████             | 768 kB 6.9 MB/s eta 0:00:01\r\u001b[K     |███████████████████▏            | 778 kB 6.9 MB/s eta 0:00:01\r\u001b[K     |███████████████████▍            | 788 kB 6.9 MB/s eta 0:00:01\r\u001b[K     |███████████████████▋            | 798 kB 6.9 MB/s eta 0:00:01\r\u001b[K     |████████████████████            | 808 kB 6.9 MB/s eta 0:00:01\r\u001b[K     |████████████████████▏           | 819 kB 6.9 MB/s eta 0:00:01\r\u001b[K     |████████████████████▍           | 829 kB 6.9 MB/s eta 0:00:01\r\u001b[K     |████████████████████▋           | 839 kB 6.9 MB/s eta 0:00:01\r\u001b[K     |█████████████████████           | 849 kB 6.9 MB/s eta 0:00:01\r\u001b[K     |█████████████████████▏          | 860 kB 6.9 MB/s eta 0:00:01\r\u001b[K     |█████████████████████▍          | 870 kB 6.9 MB/s eta 0:00:01\r\u001b[K     |█████████████████████▊          | 880 kB 6.9 MB/s eta 0:00:01\r\u001b[K     |██████████████████████          | 890 kB 6.9 MB/s eta 0:00:01\r\u001b[K     |██████████████████████▏         | 901 kB 6.9 MB/s eta 0:00:01\r\u001b[K     |██████████████████████▍         | 911 kB 6.9 MB/s eta 0:00:01\r\u001b[K     |██████████████████████▊         | 921 kB 6.9 MB/s eta 0:00:01\r\u001b[K     |███████████████████████         | 931 kB 6.9 MB/s eta 0:00:01\r\u001b[K     |███████████████████████▏        | 942 kB 6.9 MB/s eta 0:00:01\r\u001b[K     |███████████████████████▍        | 952 kB 6.9 MB/s eta 0:00:01\r\u001b[K     |███████████████████████▊        | 962 kB 6.9 MB/s eta 0:00:01\r\u001b[K     |████████████████████████        | 972 kB 6.9 MB/s eta 0:00:01\r\u001b[K     |████████████████████████▏       | 983 kB 6.9 MB/s eta 0:00:01\r\u001b[K     |████████████████████████▍       | 993 kB 6.9 MB/s eta 0:00:01\r\u001b[K     |████████████████████████▊       | 1.0 MB 6.9 MB/s eta 0:00:01\r\u001b[K     |█████████████████████████       | 1.0 MB 6.9 MB/s eta 0:00:01\r\u001b[K     |█████████████████████████▏      | 1.0 MB 6.9 MB/s eta 0:00:01\r\u001b[K     |█████████████████████████▌      | 1.0 MB 6.9 MB/s eta 0:00:01\r\u001b[K     |█████████████████████████▊      | 1.0 MB 6.9 MB/s eta 0:00:01\r\u001b[K     |██████████████████████████      | 1.1 MB 6.9 MB/s eta 0:00:01\r\u001b[K     |██████████████████████████▏     | 1.1 MB 6.9 MB/s eta 0:00:01\r\u001b[K     |██████████████████████████▌     | 1.1 MB 6.9 MB/s eta 0:00:01\r\u001b[K     |██████████████████████████▊     | 1.1 MB 6.9 MB/s eta 0:00:01\r\u001b[K     |███████████████████████████     | 1.1 MB 6.9 MB/s eta 0:00:01\r\u001b[K     |███████████████████████████▏    | 1.1 MB 6.9 MB/s eta 0:00:01\r\u001b[K     |███████████████████████████▌    | 1.1 MB 6.9 MB/s eta 0:00:01\r\u001b[K     |███████████████████████████▊    | 1.1 MB 6.9 MB/s eta 0:00:01\r\u001b[K     |████████████████████████████    | 1.1 MB 6.9 MB/s eta 0:00:01\r\u001b[K     |████████████████████████████▏   | 1.1 MB 6.9 MB/s eta 0:00:01\r\u001b[K     |████████████████████████████▌   | 1.2 MB 6.9 MB/s eta 0:00:01\r\u001b[K     |████████████████████████████▊   | 1.2 MB 6.9 MB/s eta 0:00:01\r\u001b[K     |█████████████████████████████   | 1.2 MB 6.9 MB/s eta 0:00:01\r\u001b[K     |█████████████████████████████▎  | 1.2 MB 6.9 MB/s eta 0:00:01\r\u001b[K     |█████████████████████████████▌  | 1.2 MB 6.9 MB/s eta 0:00:01\r\u001b[K     |█████████████████████████████▊  | 1.2 MB 6.9 MB/s eta 0:00:01\r\u001b[K     |██████████████████████████████  | 1.2 MB 6.9 MB/s eta 0:00:01\r\u001b[K     |██████████████████████████████▎ | 1.2 MB 6.9 MB/s eta 0:00:01\r\u001b[K     |██████████████████████████████▌ | 1.2 MB 6.9 MB/s eta 0:00:01\r\u001b[K     |██████████████████████████████▊ | 1.2 MB 6.9 MB/s eta 0:00:01\r\u001b[K     |███████████████████████████████ | 1.3 MB 6.9 MB/s eta 0:00:01\r\u001b[K     |███████████████████████████████▎| 1.3 MB 6.9 MB/s eta 0:00:01\r\u001b[K     |███████████████████████████████▌| 1.3 MB 6.9 MB/s eta 0:00:01\r\u001b[K     |███████████████████████████████▊| 1.3 MB 6.9 MB/s eta 0:00:01\r\u001b[K     |████████████████████████████████| 1.3 MB 6.9 MB/s eta 0:00:01\r\u001b[K     |████████████████████████████████| 1.3 MB 6.9 MB/s \n",
            "\u001b[?25hRequirement already satisfied: packaging in /usr/local/lib/python3.7/dist-packages (from transformers==3.5.1) (21.3)\n",
            "Requirement already satisfied: tqdm>=4.27 in /usr/local/lib/python3.7/dist-packages (from transformers==3.5.1) (4.62.3)\n",
            "Requirement already satisfied: filelock in /usr/local/lib/python3.7/dist-packages (from transformers==3.5.1) (3.4.2)\n",
            "Requirement already satisfied: protobuf in /usr/local/lib/python3.7/dist-packages (from transformers==3.5.1) (3.17.3)\n",
            "Collecting sentencepiece==0.1.91\n",
            "  Downloading sentencepiece-0.1.91-cp37-cp37m-manylinux1_x86_64.whl (1.1 MB)\n",
            "\u001b[K     |████████████████████████████████| 1.1 MB 52.1 MB/s \n",
            "\u001b[?25hRequirement already satisfied: regex!=2019.12.17 in /usr/local/lib/python3.7/dist-packages (from transformers==3.5.1) (2019.12.20)\n",
            "Collecting tokenizers==0.9.3\n",
            "  Downloading tokenizers-0.9.3-cp37-cp37m-manylinux1_x86_64.whl (2.9 MB)\n",
            "\u001b[K     |████████████████████████████████| 2.9 MB 46.6 MB/s \n",
            "\u001b[?25hRequirement already satisfied: numpy in /usr/local/lib/python3.7/dist-packages (from transformers==3.5.1) (1.19.5)\n",
            "Collecting sacremoses\n",
            "  Downloading sacremoses-0.0.47-py2.py3-none-any.whl (895 kB)\n",
            "\u001b[K     |████████████████████████████████| 895 kB 68.5 MB/s \n",
            "\u001b[?25hRequirement already satisfied: requests in /usr/local/lib/python3.7/dist-packages (from transformers==3.5.1) (2.23.0)\n",
            "Requirement already satisfied: pyparsing!=3.0.5,>=2.0.2 in /usr/local/lib/python3.7/dist-packages (from packaging->transformers==3.5.1) (3.0.6)\n",
            "Requirement already satisfied: six>=1.9 in /usr/local/lib/python3.7/dist-packages (from protobuf->transformers==3.5.1) (1.15.0)\n",
            "Requirement already satisfied: idna<3,>=2.5 in /usr/local/lib/python3.7/dist-packages (from requests->transformers==3.5.1) (2.10)\n",
            "Requirement already satisfied: certifi>=2017.4.17 in /usr/local/lib/python3.7/dist-packages (from requests->transformers==3.5.1) (2021.10.8)\n",
            "Requirement already satisfied: chardet<4,>=3.0.2 in /usr/local/lib/python3.7/dist-packages (from requests->transformers==3.5.1) (3.0.4)\n",
            "Requirement already satisfied: urllib3!=1.25.0,!=1.25.1,<1.26,>=1.21.1 in /usr/local/lib/python3.7/dist-packages (from requests->transformers==3.5.1) (1.24.3)\n",
            "Requirement already satisfied: joblib in /usr/local/lib/python3.7/dist-packages (from sacremoses->transformers==3.5.1) (1.1.0)\n",
            "Requirement already satisfied: click in /usr/local/lib/python3.7/dist-packages (from sacremoses->transformers==3.5.1) (7.1.2)\n",
            "Installing collected packages: tokenizers, sentencepiece, sacremoses, transformers\n",
            "Successfully installed sacremoses-0.0.47 sentencepiece-0.1.91 tokenizers-0.9.3 transformers-3.5.1\n"
          ]
        }
      ],
      "source": [
        "!pip install transformers==3.5.1"
      ]
    },
    {
      "cell_type": "code",
      "source": [
        "!pip install torch==1.4.0"
      ],
      "metadata": {
        "colab": {
          "base_uri": "https://localhost:8080/",
          "height": 330
        },
        "id": "2nVco6K6NJGj",
        "outputId": "55ef2cb6-903b-4766-8a19-2e08fbca6a62"
      },
      "execution_count": 5,
      "outputs": [
        {
          "output_type": "stream",
          "name": "stdout",
          "text": [
            "Collecting torch==1.4.0\n",
            "  Downloading torch-1.4.0-cp37-cp37m-manylinux1_x86_64.whl (753.4 MB)\n",
            "\u001b[K     |████████████████████████████████| 753.4 MB 6.1 kB/s \n",
            "\u001b[?25hInstalling collected packages: torch\n",
            "  Attempting uninstall: torch\n",
            "    Found existing installation: torch 1.10.0+cu111\n",
            "    Uninstalling torch-1.10.0+cu111:\n",
            "      Successfully uninstalled torch-1.10.0+cu111\n",
            "\u001b[31mERROR: pip's dependency resolver does not currently take into account all the packages that are installed. This behaviour is the source of the following dependency conflicts.\n",
            "torchvision 0.11.1+cu111 requires torch==1.10.0, but you have torch 1.4.0 which is incompatible.\n",
            "torchtext 0.11.0 requires torch==1.10.0, but you have torch 1.4.0 which is incompatible.\n",
            "torchaudio 0.10.0+cu111 requires torch==1.10.0, but you have torch 1.4.0 which is incompatible.\u001b[0m\n",
            "Successfully installed torch-1.4.0\n"
          ]
        },
        {
          "output_type": "display_data",
          "data": {
            "application/vnd.colab-display-data+json": {
              "pip_warning": {
                "packages": [
                  "torch"
                ]
              }
            }
          },
          "metadata": {}
        }
      ]
    },
    {
      "cell_type": "code",
      "source": [
        "import torch\n",
        "from transformers import BertModel, BertTokenizer"
      ],
      "metadata": {
        "id": "OoNSQkyfLkbb"
      },
      "execution_count": 1,
      "outputs": []
    },
    {
      "cell_type": "code",
      "source": [
        "model = BertModel.from_pretrained('bert-base-uncased')"
      ],
      "metadata": {
        "id": "KyQ8YV35MQCU",
        "colab": {
          "base_uri": "https://localhost:8080/",
          "height": 81,
          "referenced_widgets": [
            "e8e849a2ad194ba9be4c34f9f7293448",
            "eb52d7f8cd3641d29c7b2e60023c8b3d",
            "f5d8979e0a4445db9a1519752f543708",
            "7279e32b98154adb8a30acfa112243c6",
            "1223fdb7848045598f5ddc5b31cd3fe1",
            "dcb035623fb84f85af76014cafa86fe5",
            "55c20d85af6240a290c1cf2eabf06265",
            "11c25851f10d414482ebf24f3aa47c82",
            "c1cd18e225674d88b203fc08c07d0169",
            "41e7fa99959448f3b5270d6e92132a43",
            "4043f95fe2fb4e77b7db73339ca7fb1d",
            "431444c8e0fb4408af49dfe3f079a830",
            "267f9048c388441da0da441620f46140",
            "5e93cea4ad5742f8b3c22a0fa02b9e09",
            "9e3265b6d3fc4605a816e529de6365ad",
            "670dcdb50ad94f398691657c58fbfa3b",
            "a28d941e5eb146f88c994d7dfeeadbb5",
            "0045ce4ea7664788b881302ab761970a",
            "9beaf0e06a5d49f685cb002a109b7cbd",
            "982d092edb66433db810cb0be19def1e",
            "15d1b2d510c646f7926b16445df4d0b0",
            "887bd5a2285841278c9f852eae877860"
          ]
        },
        "outputId": "ba449b70-a08b-420e-8a33-9b1565b07aab"
      },
      "execution_count": 2,
      "outputs": [
        {
          "output_type": "display_data",
          "data": {
            "application/vnd.jupyter.widget-view+json": {
              "model_id": "e8e849a2ad194ba9be4c34f9f7293448",
              "version_minor": 0,
              "version_major": 2
            },
            "text/plain": [
              "Downloading:   0%|          | 0.00/570 [00:00<?, ?B/s]"
            ]
          },
          "metadata": {}
        },
        {
          "output_type": "display_data",
          "data": {
            "application/vnd.jupyter.widget-view+json": {
              "model_id": "431444c8e0fb4408af49dfe3f079a830",
              "version_minor": 0,
              "version_major": 2
            },
            "text/plain": [
              "Downloading:   0%|          | 0.00/440M [00:00<?, ?B/s]"
            ]
          },
          "metadata": {}
        }
      ]
    },
    {
      "cell_type": "code",
      "source": [
        "tokenizer = BertTokenizer.from_pretrained('bert-base-uncased')"
      ],
      "metadata": {
        "colab": {
          "base_uri": "https://localhost:8080/",
          "height": 49,
          "referenced_widgets": [
            "da339afc9a754e99a7dae81e86f175af",
            "d1eef7736e704747ba9b7d5ad266968d",
            "ac663720f8954656845fd85a1e1ec822",
            "90c0733cc6dd42b39be7d682677ffe87",
            "6bcf8fa5de1e47dda9ba70bc3ac7dcf9",
            "7d3270d6e5904b898d6a8f7afbe4bad7",
            "c845db12afcb43d2864a6a423ddd671c",
            "213e5798c3d04136af165bf482bf5c30",
            "0ebb7778cd1e4fb28ef9dd987679cded",
            "d1e418c420214d08853d2db611d5596f",
            "59568bf9078b409294f238c7835a7084"
          ]
        },
        "id": "uqJKHK7LOB9h",
        "outputId": "1b715791-595e-483a-d38e-7b8b417854db"
      },
      "execution_count": 3,
      "outputs": [
        {
          "output_type": "display_data",
          "data": {
            "application/vnd.jupyter.widget-view+json": {
              "model_id": "da339afc9a754e99a7dae81e86f175af",
              "version_minor": 0,
              "version_major": 2
            },
            "text/plain": [
              "Downloading:   0%|          | 0.00/232k [00:00<?, ?B/s]"
            ]
          },
          "metadata": {}
        }
      ]
    },
    {
      "cell_type": "code",
      "source": [
        "sentence = 'I love Paris'\n",
        "tokens = tokenizer.tokenize(sentence)\n",
        "print(tokens)"
      ],
      "metadata": {
        "colab": {
          "base_uri": "https://localhost:8080/"
        },
        "id": "MveU05yJOLEt",
        "outputId": "f8dbed7b-ff54-41a1-fd7f-922f048607e0"
      },
      "execution_count": 8,
      "outputs": [
        {
          "output_type": "stream",
          "name": "stdout",
          "text": [
            "['i', 'love', 'paris']\n"
          ]
        }
      ]
    },
    {
      "cell_type": "code",
      "source": [
        "tokens = ['[CLS]'] + tokens + ['[SEP]']\n",
        "print(tokens)"
      ],
      "metadata": {
        "colab": {
          "base_uri": "https://localhost:8080/"
        },
        "id": "_M_I5g_JOOif",
        "outputId": "22d33d01-2122-4e87-f28e-76fa7fe45c30"
      },
      "execution_count": 9,
      "outputs": [
        {
          "output_type": "stream",
          "name": "stdout",
          "text": [
            "['[CLS]', 'i', 'love', 'paris', '[SEP]']\n"
          ]
        }
      ]
    },
    {
      "cell_type": "code",
      "source": [
        "# 패딩\n",
        "tokens = tokens + ['[PAD]'] + ['[PAD]']\n",
        "print(tokens)"
      ],
      "metadata": {
        "colab": {
          "base_uri": "https://localhost:8080/"
        },
        "id": "LCPHAJLQOcaP",
        "outputId": "a49224a3-1036-43d1-ab43-dcea74b1e980"
      },
      "execution_count": 10,
      "outputs": [
        {
          "output_type": "stream",
          "name": "stdout",
          "text": [
            "['[CLS]', 'i', 'love', 'paris', '[SEP]', '[PAD]', '[PAD]']\n"
          ]
        }
      ]
    },
    {
      "cell_type": "code",
      "source": [
        "# 어텐션 마스크 생성: [PAD]가 토큰이 아니라는 것을 명시\n",
        "attention_mask = [1 if i!= '[PAD]' else 0 for i in tokens]\n",
        "print(attention_mask)"
      ],
      "metadata": {
        "colab": {
          "base_uri": "https://localhost:8080/"
        },
        "id": "y4S3rB4QOmdi",
        "outputId": "c7d49313-f434-4c83-a1b5-0eae321e7c59"
      },
      "execution_count": 11,
      "outputs": [
        {
          "output_type": "stream",
          "name": "stdout",
          "text": [
            "[1, 1, 1, 1, 1, 0, 0]\n"
          ]
        }
      ]
    },
    {
      "cell_type": "code",
      "source": [
        "token_ids = tokenizer.convert_tokens_to_ids(tokens)\n",
        "print(token_ids)"
      ],
      "metadata": {
        "colab": {
          "base_uri": "https://localhost:8080/"
        },
        "id": "KGjOgLLXOv7u",
        "outputId": "2d25879d-f89a-4c40-8e7d-4dd45c6be944"
      },
      "execution_count": 13,
      "outputs": [
        {
          "output_type": "stream",
          "name": "stdout",
          "text": [
            "[101, 1045, 2293, 3000, 102, 0, 0]\n"
          ]
        }
      ]
    },
    {
      "cell_type": "code",
      "source": [
        "token_ids = torch.tensor(token_ids).unsqueeze(0)\n",
        "attention_mask = torch.tensor(attention_mask).unsqueeze(0)"
      ],
      "metadata": {
        "id": "i7-A0jbKO2ol"
      },
      "execution_count": 14,
      "outputs": []
    },
    {
      "cell_type": "code",
      "source": [
        "# 임베딩 추출\n",
        "# hidden_rep은 입력에 대한 모든 토큰의 임베딩 표현을 포함하고 있다.\n",
        "# hidden_rep[0][0] -> 첫 번째 토큰인 [CLS]의 표현 벡터\n",
        "# hidden_rep[0][1] -> 두 번째 토큰인 i의 표현 벡터\n",
        "# hidden_rep[0][2] -> 세 번째 토큰인 love의 표현 벡터\n",
        "hidden_rep, cls_head = model(token_ids, attention_mask=attention_mask)\n",
        "print(hidden_rep.shape)"
      ],
      "metadata": {
        "colab": {
          "base_uri": "https://localhost:8080/"
        },
        "id": "yxvJK6_aQKeu",
        "outputId": "c38d75a0-3c20-4193-b621-bfce82d4c7cc"
      },
      "execution_count": 15,
      "outputs": [
        {
          "output_type": "stream",
          "name": "stdout",
          "text": [
            "torch.Size([1, 7, 768])\n"
          ]
        }
      ]
    },
    {
      "cell_type": "code",
      "source": [
        "print(cls_head.shape)"
      ],
      "metadata": {
        "colab": {
          "base_uri": "https://localhost:8080/"
        },
        "id": "YNjuAbR0STFn",
        "outputId": "ff144577-6c7d-4b16-9a4d-b5c1db92c088"
      },
      "execution_count": 16,
      "outputs": [
        {
          "output_type": "stream",
          "name": "stdout",
          "text": [
            "torch.Size([1, 768])\n"
          ]
        }
      ]
    }
  ]
}