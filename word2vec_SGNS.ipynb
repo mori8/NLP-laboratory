{
  "nbformat": 4,
  "nbformat_minor": 0,
  "metadata": {
    "colab": {
      "name": "\bword2vec-SGNS.ipynb",
      "provenance": [],
      "authorship_tag": "ABX9TyPvRGktWkjM/WQNeA8EmrYB",
      "include_colab_link": true
    },
    "kernelspec": {
      "name": "python3",
      "display_name": "Python 3"
    },
    "language_info": {
      "name": "python"
    }
  },
  "cells": [
    {
      "cell_type": "markdown",
      "metadata": {
        "id": "view-in-github",
        "colab_type": "text"
      },
      "source": [
        "<a href=\"https://colab.research.google.com/github/mori8/NLP-laboratory/blob/main/%08word2vec_SGNS.ipynb\" target=\"_parent\"><img src=\"https://colab.research.google.com/assets/colab-badge.svg\" alt=\"Open In Colab\"/></a>"
      ]
    },
    {
      "cell_type": "code",
      "metadata": {
        "id": "hGhtgF1ckQlQ"
      },
      "source": [
        "import pandas as pd\n",
        "import numpy as np\n",
        "import nltk\n",
        "from nltk.corpus import stopwords\n",
        "from sklearn.datasets import fetch_20newsgroups\n",
        "from tensorflow.keras.preprocessing.text import Tokenizer"
      ],
      "execution_count": 1,
      "outputs": []
    },
    {
      "cell_type": "code",
      "metadata": {
        "colab": {
          "base_uri": "https://localhost:8080/"
        },
        "id": "ejJvaCUMnCjQ",
        "outputId": "b1641f8d-cde2-496b-a0e5-699ba4f20028"
      },
      "source": [
        "# to avoid LookupError\n",
        "nltk.download('stopwords')"
      ],
      "execution_count": 2,
      "outputs": [
        {
          "output_type": "stream",
          "name": "stdout",
          "text": [
            "[nltk_data] Downloading package stopwords to /root/nltk_data...\n",
            "[nltk_data]   Unzipping corpora/stopwords.zip.\n"
          ]
        },
        {
          "output_type": "execute_result",
          "data": {
            "text/plain": [
              "True"
            ]
          },
          "metadata": {},
          "execution_count": 2
        }
      ]
    },
    {
      "cell_type": "code",
      "metadata": {
        "colab": {
          "base_uri": "https://localhost:8080/"
        },
        "id": "NCvja2ASklS-",
        "outputId": "0e601266-c524-457e-b573-00c877c4d24a"
      },
      "source": [
        "dataset = fetch_20newsgroups(shuffle=True, random_state=1, remove=('headers', 'footers', 'quotes'))\n",
        "documents = dataset.data\n",
        "print('총 샘플 수 :',len(documents))"
      ],
      "execution_count": 51,
      "outputs": [
        {
          "output_type": "stream",
          "name": "stdout",
          "text": [
            "총 샘플 수 : 11314\n"
          ]
        }
      ]
    },
    {
      "cell_type": "code",
      "metadata": {
        "id": "08GzR1oAkw0q"
      },
      "source": [
        "# 전처리\n",
        "news_df = pd.DataFrame({'document':documents})\n",
        "# 특수 문자 제거\n",
        "news_df['clean_doc'] = news_df['document'].str.replace(\"[^a-zA-Z]\", \" \")\n",
        "# 길이가 3 이하인 단어는 제거\n",
        "news_df['clean_doc'] = news_df['clean_doc'].apply(lambda x: ' '.join([w for w in x.split() if len(w)>3]))\n",
        "# 전체 단어에 대한 소문자 변환\n",
        "news_df['clean_doc'] = news_df['clean_doc'].apply(lambda x: x.lower())"
      ],
      "execution_count": 52,
      "outputs": []
    },
    {
      "cell_type": "code",
      "metadata": {
        "colab": {
          "base_uri": "https://localhost:8080/"
        },
        "id": "KczmAgA7lZZy",
        "outputId": "2107e4f8-9448-4300-e82c-072a8f9904a9"
      },
      "source": [
        "news_df.isnull().values.any()"
      ],
      "execution_count": 53,
      "outputs": [
        {
          "output_type": "execute_result",
          "data": {
            "text/plain": [
              "False"
            ]
          },
          "metadata": {},
          "execution_count": 53
        }
      ]
    },
    {
      "cell_type": "code",
      "metadata": {
        "colab": {
          "base_uri": "https://localhost:8080/"
        },
        "id": "eyylzQEblcpw",
        "outputId": "c6f6e886-0d5e-4431-a15e-54feb795bfee"
      },
      "source": [
        "news_df.replace(\"\", float(\"NaN\"), inplace=True)\n",
        "news_df.isnull().values.any()"
      ],
      "execution_count": 54,
      "outputs": [
        {
          "output_type": "execute_result",
          "data": {
            "text/plain": [
              "True"
            ]
          },
          "metadata": {},
          "execution_count": 54
        }
      ]
    },
    {
      "cell_type": "code",
      "metadata": {
        "colab": {
          "base_uri": "https://localhost:8080/"
        },
        "id": "1daAlxgAl4Uo",
        "outputId": "0b1e6bc3-1b5e-4e90-b430-917666acc7c3"
      },
      "source": [
        "# Null 제거\n",
        "news_df.dropna(inplace=True)\n",
        "print('data length:', len(news_df))"
      ],
      "execution_count": 55,
      "outputs": [
        {
          "output_type": "stream",
          "name": "stdout",
          "text": [
            "data length: 10995\n"
          ]
        }
      ]
    },
    {
      "cell_type": "code",
      "metadata": {
        "id": "78TREdb9mCyV"
      },
      "source": [
        "# stopwords 제거\n",
        "stop_words = stopwords.words('english')\n",
        "tokenized_doc = news_df['clean_doc'].apply(lambda x: x.split())\n",
        "# nltk에서 정한 stopword 리스트를 사용해 stopword 제거\n",
        "tokenized_doc = tokenized_doc.apply(lambda x: [item for item in x if item not in stop_words])\n",
        "tokenized_doc = tokenized_doc.to_list()"
      ],
      "execution_count": 56,
      "outputs": []
    },
    {
      "cell_type": "code",
      "metadata": {
        "colab": {
          "base_uri": "https://localhost:8080/"
        },
        "id": "nDlp-qw7m8g-",
        "outputId": "d4500fad-0a25-470f-c00b-4d4e84e495a2"
      },
      "source": [
        "# 단어가 1개 이하인 샘플의 인덱스를 찾아서 저장하고, 해당 샘플들은 제거\n",
        "drop_train = [index for index, sentence in enumerate(tokenized_doc) if len(sentence) <= 1]\n",
        "tokenized_doc = np.delete(tokenized_doc, drop_train, axis=0)\n",
        "print('총 샘플 수 :',len(tokenized_doc))"
      ],
      "execution_count": 57,
      "outputs": [
        {
          "output_type": "stream",
          "name": "stdout",
          "text": [
            "총 샘플 수 : 10940\n"
          ]
        },
        {
          "output_type": "stream",
          "name": "stderr",
          "text": [
            "/usr/local/lib/python3.7/dist-packages/numpy/core/_asarray.py:83: VisibleDeprecationWarning: Creating an ndarray from ragged nested sequences (which is a list-or-tuple of lists-or-tuples-or ndarrays with different lengths or shapes) is deprecated. If you meant to do this, you must specify 'dtype=object' when creating the ndarray\n",
            "  return array(a, dtype, copy=False, order=order)\n"
          ]
        }
      ]
    },
    {
      "cell_type": "code",
      "metadata": {
        "id": "0fZ1buBdwBF9"
      },
      "source": [
        "tokenizer = Tokenizer()\n",
        "tokenizer.fit_on_texts(tokenized_doc)\n",
        "\n",
        "word2idx = tokenizer.word_index\n",
        "idx2word = {value : key for key, value in word2idx.items()}\n",
        "encoded = tokenizer.texts_to_sequences(tokenized_doc)"
      ],
      "execution_count": 58,
      "outputs": []
    },
    {
      "cell_type": "code",
      "metadata": {
        "colab": {
          "base_uri": "https://localhost:8080/"
        },
        "id": "_MtkRLpyyHLp",
        "outputId": "885cd7b2-6f4b-449b-a463-d20b7b43f37b"
      },
      "source": [
        "print(encoded[:2])"
      ],
      "execution_count": 59,
      "outputs": [
        {
          "output_type": "stream",
          "name": "stdout",
          "text": [
            "[[9, 59, 603, 207, 3278, 1495, 474, 702, 9470, 13686, 5533, 15227, 702, 442, 702, 70, 1148, 1095, 1036, 20294, 984, 705, 4294, 702, 217, 207, 1979, 15228, 13686, 4865, 4520, 87, 1530, 6, 52, 149, 581, 661, 4406, 4988, 4866, 1920, 755, 10668, 1102, 7837, 442, 957, 10669, 634, 51, 228, 2669, 4989, 178, 66, 222, 4521, 6066, 68, 4295], [1026, 532, 2, 60, 98, 582, 107, 800, 23, 79, 4522, 333, 7838, 864, 421, 3825, 458, 6488, 458, 2700, 4730, 333, 23, 9, 4731, 7262, 186, 310, 146, 170, 642, 1260, 107, 33568, 13, 985, 33569, 33570, 9471, 11491]]\n"
          ]
        }
      ]
    },
    {
      "cell_type": "code",
      "metadata": {
        "colab": {
          "base_uri": "https://localhost:8080/"
        },
        "id": "yKVPnbrRyMyU",
        "outputId": "8d787a2d-b2d8-4b42-a523-0734b5373ed5"
      },
      "source": [
        "vocab_size = len(word2idx) + 1\n",
        "print('단어 집합의 크기:', vocab_size)"
      ],
      "execution_count": 60,
      "outputs": [
        {
          "output_type": "stream",
          "name": "stdout",
          "text": [
            "단어 집합의 크기: 64277\n"
          ]
        }
      ]
    },
    {
      "cell_type": "markdown",
      "metadata": {
        "id": "jVd6KyGl0Lqa"
      },
      "source": [
        "## Negative Sampling"
      ]
    },
    {
      "cell_type": "code",
      "metadata": {
        "id": "sDlHC9iqym1G"
      },
      "source": [
        "# 네거티브 샘플링을 통한 데이터셋 구성하기\n",
        "# 시간 없으니 상위 10개만\n",
        "from tensorflow.keras.preprocessing.sequence import skipgrams\n",
        "# 네거티브 샘플링\n",
        "skip_grams = [skipgrams(sample, vocabulary_size=vocab_size, window_size=10) for sample in encoded[:10]]"
      ],
      "execution_count": 61,
      "outputs": []
    },
    {
      "cell_type": "code",
      "metadata": {
        "colab": {
          "base_uri": "https://localhost:8080/"
        },
        "id": "WxG1bGQxzM6L",
        "outputId": "75e323d5-ea1d-47ff-c68c-a26a1f3a2b72"
      },
      "source": [
        "# 첫번째 뉴스그룹 샘플(skip_grams[0])\n",
        "pairs, labels = skip_grams[0][0], skip_grams[0][1]\n",
        "for i in range(5):\n",
        "    print(\"({:s} ({:d}), {:s} ({:d})) -> {:d}\".format(\n",
        "          idx2word[pairs[i][0]], pairs[i][0], \n",
        "          idx2word[pairs[i][1]], pairs[i][1], \n",
        "          labels[i]))"
      ],
      "execution_count": 62,
      "outputs": [
        {
          "output_type": "stream",
          "name": "stdout",
          "text": [
            "(realize (1036), friendly (3028)) -> 0\n",
            "(letter (705), production (1905)) -> 0\n",
            "(statement (474), well (9)) -> 1\n",
            "(letter (705), attleboro (29685)) -> 0\n",
            "(disagree (1495), gesi (37949)) -> 0\n"
          ]
        }
      ]
    },
    {
      "cell_type": "markdown",
      "metadata": {
        "id": "4i5kRYEI0BkT"
      },
      "source": [
        "윈도우 크기 내에서 중심 단어-주변 단어의 관계를 가지는 경우에는 1, 아닌 경우는 0의 레이블을 가지도록 한다."
      ]
    },
    {
      "cell_type": "code",
      "metadata": {
        "colab": {
          "base_uri": "https://localhost:8080/"
        },
        "id": "lUKUn2VXz9EE",
        "outputId": "141f92c6-bd60-46df-a264-a7ebafda1e9b"
      },
      "source": [
        "print('전체 샘플 수:', len(skip_grams))"
      ],
      "execution_count": 63,
      "outputs": [
        {
          "output_type": "stream",
          "name": "stdout",
          "text": [
            "전체 샘플 수: 10\n"
          ]
        }
      ]
    },
    {
      "cell_type": "code",
      "metadata": {
        "colab": {
          "base_uri": "https://localhost:8080/"
        },
        "id": "C9kRR21K1QJQ",
        "outputId": "dce24a82-b04a-4044-e855-c19b2e2b2a74"
      },
      "source": [
        "print(len(pairs))\n",
        "print(len(labels))"
      ],
      "execution_count": 64,
      "outputs": [
        {
          "output_type": "stream",
          "name": "stdout",
          "text": [
            "2220\n",
            "2220\n"
          ]
        }
      ]
    },
    {
      "cell_type": "markdown",
      "metadata": {
        "id": "ZwFScUxK1e1I"
      },
      "source": [
        "## Skip-Gram with Negative Sampling"
      ]
    },
    {
      "cell_type": "code",
      "metadata": {
        "id": "t7Du9Av_1SUF"
      },
      "source": [
        "# skip-gram 직접 구현해보기\n",
        "from tensorflow.keras.models import Sequential, Model\n",
        "from tensorflow.keras.layers import Embedding, Reshape, Activation, Input, Dot\n",
        "from tensorflow.keras.utils import plot_model\n",
        "from IPython.display import SVG"
      ],
      "execution_count": 65,
      "outputs": []
    },
    {
      "cell_type": "code",
      "metadata": {
        "id": "dq_oLUgl4rHn"
      },
      "source": [
        "embed_size = 100"
      ],
      "execution_count": 66,
      "outputs": []
    },
    {
      "cell_type": "code",
      "metadata": {
        "id": "R0UHyOB_4w_P"
      },
      "source": [
        "# 중심 단어를 위한 임베딩 테이블\n",
        "w_inputs = Input(shape=(1, ), dtype='int32')\n",
        "word_embedding = Embedding(vocab_size, embed_size)(w_inputs)\n",
        "\n",
        "# 주변 단어를 위한 임베딩 테이블\n",
        "c_inputs = Input(shape=(1, ), dtype='int32')\n",
        "context_embedding  = Embedding(vocab_size, embed_size)(c_inputs)"
      ],
      "execution_count": 67,
      "outputs": []
    },
    {
      "cell_type": "code",
      "metadata": {
        "id": "BOfMnS8v5LS_"
      },
      "source": [
        "dot_product = Dot(axes=2)([word_embedding, context_embedding])\n",
        "dot_product = Reshape((1,), input_shape=(1, 1))(dot_product)\n",
        "output = Activation('sigmoid')(dot_product)"
      ],
      "execution_count": 68,
      "outputs": []
    },
    {
      "cell_type": "code",
      "metadata": {
        "colab": {
          "base_uri": "https://localhost:8080/",
          "height": 941
        },
        "id": "3__mVwk15ekw",
        "outputId": "5009966f-852d-4043-e29d-d7061f1fd33c"
      },
      "source": [
        "model = Model(inputs=[w_inputs, c_inputs], outputs=output)\n",
        "model.summary()\n",
        "model.compile(loss='binary_crossentropy', optimizer='adam')\n",
        "plot_model(model, to_file='model3.png', show_shapes=True, show_layer_names=True, rankdir='TB')"
      ],
      "execution_count": 69,
      "outputs": [
        {
          "output_type": "stream",
          "name": "stdout",
          "text": [
            "Model: \"model_3\"\n",
            "__________________________________________________________________________________________________\n",
            " Layer (type)                   Output Shape         Param #     Connected to                     \n",
            "==================================================================================================\n",
            " input_7 (InputLayer)           [(None, 1)]          0           []                               \n",
            "                                                                                                  \n",
            " input_8 (InputLayer)           [(None, 1)]          0           []                               \n",
            "                                                                                                  \n",
            " embedding_6 (Embedding)        (None, 1, 100)       6427700     ['input_7[0][0]']                \n",
            "                                                                                                  \n",
            " embedding_7 (Embedding)        (None, 1, 100)       6427700     ['input_8[0][0]']                \n",
            "                                                                                                  \n",
            " dot_3 (Dot)                    (None, 1, 1)         0           ['embedding_6[0][0]',            \n",
            "                                                                  'embedding_7[0][0]']            \n",
            "                                                                                                  \n",
            " reshape_3 (Reshape)            (None, 1)            0           ['dot_3[0][0]']                  \n",
            "                                                                                                  \n",
            " activation_3 (Activation)      (None, 1)            0           ['reshape_3[0][0]']              \n",
            "                                                                                                  \n",
            "==================================================================================================\n",
            "Total params: 12,855,400\n",
            "Trainable params: 12,855,400\n",
            "Non-trainable params: 0\n",
            "__________________________________________________________________________________________________\n"
          ]
        },
        {
          "output_type": "execute_result",
          "data": {
            "image/png": "[encoded data removed]",
            "text/plain": [
              "<IPython.core.display.Image object>"
            ]
          },
          "metadata": {},
          "execution_count": 69
        }
      ]
    },
    {
      "cell_type": "code",
      "metadata": {
        "colab": {
          "base_uri": "https://localhost:8080/"
        },
        "id": "i7F9lyRr50f5",
        "outputId": "19be3a60-581a-4a23-9213-fcf202c2cc94"
      },
      "source": [
        "for epoch in range(1, 16):\n",
        "    loss = 0\n",
        "    for _, elem in enumerate(skip_grams):\n",
        "        first_elem = np.array(list(zip(*elem[0]))[0], dtype='int32')\n",
        "        second_elem = np.array(list(zip(*elem[0]))[1], dtype='int32')\n",
        "        labels = np.array(elem[1], dtype='int32')\n",
        "        X = [first_elem, second_elem]\n",
        "        Y = labels\n",
        "        loss += model.train_on_batch(X,Y)  \n",
        "    print('Epoch :',epoch, 'Loss :',loss)"
      ],
      "execution_count": 83,
      "outputs": [
        {
          "output_type": "stream",
          "name": "stdout",
          "text": [
            "Epoch : 1 Loss : 5.525849640369415\n",
            "Epoch : 2 Loss : 5.326479494571686\n",
            "Epoch : 3 Loss : 5.118135303258896\n",
            "Epoch : 4 Loss : 4.902800440788269\n",
            "Epoch : 5 Loss : 4.682548254728317\n",
            "Epoch : 6 Loss : 4.459476500749588\n",
            "Epoch : 7 Loss : 4.235641688108444\n",
            "Epoch : 8 Loss : 4.013004004955292\n",
            "Epoch : 9 Loss : 3.7933753430843353\n",
            "Epoch : 10 Loss : 3.5783813297748566\n",
            "Epoch : 11 Loss : 3.369431287050247\n",
            "Epoch : 12 Loss : 3.1677019596099854\n",
            "Epoch : 13 Loss : 2.9741309881210327\n",
            "Epoch : 14 Loss : 2.789421021938324\n",
            "Epoch : 15 Loss : 2.614051416516304\n"
          ]
        }
      ]
    },
    {
      "cell_type": "code",
      "metadata": {
        "id": "Z-p6AMCk62eU"
      },
      "source": [
        "# 결과 확인\n",
        "import gensim"
      ],
      "execution_count": 71,
      "outputs": []
    },
    {
      "cell_type": "code",
      "metadata": {
        "id": "KZhgrv1v7F9Y"
      },
      "source": [
        "f = open('vectors.txt' ,'w')\n",
        "f.write('{} {}\\n'.format(vocab_size-1, embed_size))\n",
        "vectors = model.get_weights()[0]\n",
        "for word, i in tokenizer.word_index.items():\n",
        "    f.write('{} {}\\n'.format(word, ' '.join(map(str, list(vectors[i, :])))))\n",
        "f.close()"
      ],
      "execution_count": 84,
      "outputs": []
    },
    {
      "cell_type": "code",
      "metadata": {
        "colab": {
          "base_uri": "https://localhost:8080/"
        },
        "id": "0kVUbwYX-ABE",
        "outputId": "3ad9a244-5896-48e3-afdf-f36aef46270d"
      },
      "source": [
        "w2v = gensim.models.KeyedVectors.load_word2vec_format('./vectors.txt', binary=False)\n",
        "w2v.most_similar(positive=['soldiers'])"
      ],
      "execution_count": 85,
      "outputs": [
        {
          "output_type": "execute_result",
          "data": {
            "text/plain": [
              "[('makes', 0.7283537983894348),\n",
              " ('received', 0.6690194010734558),\n",
              " ('commited', 0.6556481719017029),\n",
              " ('away', 0.6410380005836487),\n",
              " ('treating', 0.634045422077179),\n",
              " ('reports', 0.6109390258789062),\n",
              " ('guilt', 0.5938081741333008),\n",
              " ('races', 0.5865753889083862),\n",
              " ('acts', 0.5809345841407776),\n",
              " ('unfortunate', 0.5763115882873535)]"
            ]
          },
          "metadata": {},
          "execution_count": 85
        }
      ]
    },
    {
      "cell_type": "code",
      "metadata": {
        "colab": {
          "base_uri": "https://localhost:8080/"
        },
        "id": "UCgOMbo7DzE7",
        "outputId": "a24e6443-6779-4d99-e8de-c1a4048bf34e"
      },
      "source": [
        "w2v.most_similar(positive=['doctor'])"
      ],
      "execution_count": 86,
      "outputs": [
        {
          "output_type": "execute_result",
          "data": {
            "text/plain": [
              "[('abilities', 0.368651807308197),\n",
              " ('consensually', 0.3653196096420288),\n",
              " ('ripcam', 0.36467552185058594),\n",
              " ('trachtenberg', 0.3608926236629486),\n",
              " ('modality', 0.3573950231075287),\n",
              " ('kabbalat', 0.3567562997341156),\n",
              " ('leksand', 0.3554874062538147),\n",
              " ('bouhdiba', 0.35417884588241577),\n",
              " ('tribulation', 0.35192084312438965),\n",
              " ('summarize', 0.35137879848480225)]"
            ]
          },
          "metadata": {},
          "execution_count": 86
        }
      ]
    },
    {
      "cell_type": "code",
      "metadata": {
        "colab": {
          "base_uri": "https://localhost:8080/"
        },
        "id": "YY3KC9QOEwb2",
        "outputId": "bc3f99d0-8d3e-44a2-c74a-2d7336556dd3"
      },
      "source": [
        "w2v.most_similar(positive=['knife'])"
      ],
      "execution_count": 87,
      "outputs": [
        {
          "output_type": "execute_result",
          "data": {
            "text/plain": [
              "[('bombards', 0.398502916097641),\n",
              " ('mendez', 0.3905550241470337),\n",
              " ('pxphigs', 0.38821685314178467),\n",
              " ('unsullied', 0.3749113082885742),\n",
              " ('iyup', 0.362787663936615),\n",
              " ('scanfirstline', 0.34998488426208496),\n",
              " ('equipement', 0.34885773062705994),\n",
              " ('nacional', 0.3474619388580322),\n",
              " ('fayettville', 0.34677624702453613),\n",
              " ('satisfac', 0.3454171121120453)]"
            ]
          },
          "metadata": {},
          "execution_count": 87
        }
      ]
    },
    {
      "cell_type": "code",
      "metadata": {
        "colab": {
          "base_uri": "https://localhost:8080/"
        },
        "id": "_w_lxNdQE3qB",
        "outputId": "0203bc36-d4b2-4218-9ed3-1cca6bfd4099"
      },
      "source": [
        "w2v.most_similar(positive=['engine'])"
      ],
      "execution_count": 88,
      "outputs": [
        {
          "output_type": "execute_result",
          "data": {
            "text/plain": [
              "[('frammitzes', 0.3882414698600769),\n",
              " ('remedial', 0.3878495693206787),\n",
              " ('role', 0.3819655776023865),\n",
              " ('penned', 0.3701178729534149),\n",
              " ('decorative', 0.36992087960243225),\n",
              " ('sense', 0.3649899363517761),\n",
              " ('gryaznov', 0.36210185289382935),\n",
              " ('eskimo', 0.35961824655532837),\n",
              " ('ftpuf', 0.35822221636772156),\n",
              " ('atom', 0.3541772663593292)]"
            ]
          },
          "metadata": {},
          "execution_count": 88
        }
      ]
    }
  ]
}