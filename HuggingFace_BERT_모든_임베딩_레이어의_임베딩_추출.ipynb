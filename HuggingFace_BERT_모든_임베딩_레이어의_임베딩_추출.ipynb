{
  "nbformat": 4,
  "nbformat_minor": 0,
  "metadata": {
    "colab": {
      "name": "HuggingFace - BERT 모든 임베딩 레이어의 임베딩 추출.ipynb",
      "provenance": [],
      "authorship_tag": "ABX9TyNklfliV7K7q1lYqWAIxIyI",
      "include_colab_link": true
    },
    "kernelspec": {
      "name": "python3",
      "display_name": "Python 3"
    },
    "language_info": {
      "name": "python"
    }
  },
  "cells": [
    {
      "cell_type": "markdown",
      "metadata": {
        "id": "view-in-github",
        "colab_type": "text"
      },
      "source": [
        "<a href=\"https://colab.research.google.com/github/mori8/NLP-laboratory/blob/main/HuggingFace_BERT_%EB%AA%A8%EB%93%A0_%EC%9E%84%EB%B2%A0%EB%94%A9_%EB%A0%88%EC%9D%B4%EC%96%B4%EC%9D%98_%EC%9E%84%EB%B2%A0%EB%94%A9_%EC%B6%94%EC%B6%9C.ipynb\" target=\"_parent\"><img src=\"https://colab.research.google.com/assets/colab-badge.svg\" alt=\"Open In Colab\"/></a>"
      ]
    },
    {
      "cell_type": "code",
      "execution_count": null,
      "metadata": {
        "colab": {
          "base_uri": "https://localhost:8080/"
        },
        "id": "JNZgSl_WLbKi",
        "outputId": "00cf88d9-9b24-4e35-a24d-efdf842b00b3"
      },
      "outputs": [
        {
          "output_type": "stream",
          "name": "stdout",
          "text": [
            "Collecting transformers==3.5.1\n",
            "  Downloading transformers-3.5.1-py3-none-any.whl (1.3 MB)\n",
            "\u001b[?25l\r\u001b[K     |▎                               | 10 kB 27.1 MB/s eta 0:00:01\r\u001b[K     |▌                               | 20 kB 35.3 MB/s eta 0:00:01\r\u001b[K     |▊                               | 30 kB 17.6 MB/s eta 0:00:01\r\u001b[K     |█                               | 40 kB 12.3 MB/s eta 0:00:01\r\u001b[K     |█▎                              | 51 kB 7.6 MB/s eta 0:00:01\r\u001b[K     |█▌                              | 61 kB 8.1 MB/s eta 0:00:01\r\u001b[K     |█▊                              | 71 kB 7.4 MB/s eta 0:00:01\r\u001b[K     |██                              | 81 kB 8.3 MB/s eta 0:00:01\r\u001b[K     |██▎                             | 92 kB 6.5 MB/s eta 0:00:01\r\u001b[K     |██▌                             | 102 kB 6.9 MB/s eta 0:00:01\r\u001b[K     |██▊                             | 112 kB 6.9 MB/s eta 0:00:01\r\u001b[K     |███                             | 122 kB 6.9 MB/s eta 0:00:01\r\u001b[K     |███▎                            | 133 kB 6.9 MB/s eta 0:00:01\r\u001b[K     |███▌                            | 143 kB 6.9 MB/s eta 0:00:01\r\u001b[K     |███▉                            | 153 kB 6.9 MB/s eta 0:00:01\r\u001b[K     |████                            | 163 kB 6.9 MB/s eta 0:00:01\r\u001b[K     |████▎                           | 174 kB 6.9 MB/s eta 0:00:01\r\u001b[K     |████▌                           | 184 kB 6.9 MB/s eta 0:00:01\r\u001b[K     |████▉                           | 194 kB 6.9 MB/s eta 0:00:01\r\u001b[K     |█████                           | 204 kB 6.9 MB/s eta 0:00:01\r\u001b[K     |█████▎                          | 215 kB 6.9 MB/s eta 0:00:01\r\u001b[K     |█████▌                          | 225 kB 6.9 MB/s eta 0:00:01\r\u001b[K     |█████▉                          | 235 kB 6.9 MB/s eta 0:00:01\r\u001b[K     |██████                          | 245 kB 6.9 MB/s eta 0:00:01\r\u001b[K     |██████▎                         | 256 kB 6.9 MB/s eta 0:00:01\r\u001b[K     |██████▌                         | 266 kB 6.9 MB/s eta 0:00:01\r\u001b[K     |██████▉                         | 276 kB 6.9 MB/s eta 0:00:01\r\u001b[K     |███████                         | 286 kB 6.9 MB/s eta 0:00:01\r\u001b[K     |███████▎                        | 296 kB 6.9 MB/s eta 0:00:01\r\u001b[K     |███████▋                        | 307 kB 6.9 MB/s eta 0:00:01\r\u001b[K     |███████▉                        | 317 kB 6.9 MB/s eta 0:00:01\r\u001b[K     |████████                        | 327 kB 6.9 MB/s eta 0:00:01\r\u001b[K     |████████▎                       | 337 kB 6.9 MB/s eta 0:00:01\r\u001b[K     |████████▋                       | 348 kB 6.9 MB/s eta 0:00:01\r\u001b[K     |████████▉                       | 358 kB 6.9 MB/s eta 0:00:01\r\u001b[K     |█████████                       | 368 kB 6.9 MB/s eta 0:00:01\r\u001b[K     |█████████▎                      | 378 kB 6.9 MB/s eta 0:00:01\r\u001b[K     |█████████▋                      | 389 kB 6.9 MB/s eta 0:00:01\r\u001b[K     |█████████▉                      | 399 kB 6.9 MB/s eta 0:00:01\r\u001b[K     |██████████                      | 409 kB 6.9 MB/s eta 0:00:01\r\u001b[K     |██████████▎                     | 419 kB 6.9 MB/s eta 0:00:01\r\u001b[K     |██████████▋                     | 430 kB 6.9 MB/s eta 0:00:01\r\u001b[K     |██████████▉                     | 440 kB 6.9 MB/s eta 0:00:01\r\u001b[K     |███████████                     | 450 kB 6.9 MB/s eta 0:00:01\r\u001b[K     |███████████▍                    | 460 kB 6.9 MB/s eta 0:00:01\r\u001b[K     |███████████▋                    | 471 kB 6.9 MB/s eta 0:00:01\r\u001b[K     |███████████▉                    | 481 kB 6.9 MB/s eta 0:00:01\r\u001b[K     |████████████                    | 491 kB 6.9 MB/s eta 0:00:01\r\u001b[K     |████████████▍                   | 501 kB 6.9 MB/s eta 0:00:01\r\u001b[K     |████████████▋                   | 512 kB 6.9 MB/s eta 0:00:01\r\u001b[K     |████████████▉                   | 522 kB 6.9 MB/s eta 0:00:01\r\u001b[K     |█████████████                   | 532 kB 6.9 MB/s eta 0:00:01\r\u001b[K     |█████████████▍                  | 542 kB 6.9 MB/s eta 0:00:01\r\u001b[K     |█████████████▋                  | 552 kB 6.9 MB/s eta 0:00:01\r\u001b[K     |█████████████▉                  | 563 kB 6.9 MB/s eta 0:00:01\r\u001b[K     |██████████████                  | 573 kB 6.9 MB/s eta 0:00:01\r\u001b[K     |██████████████▍                 | 583 kB 6.9 MB/s eta 0:00:01\r\u001b[K     |██████████████▋                 | 593 kB 6.9 MB/s eta 0:00:01\r\u001b[K     |██████████████▉                 | 604 kB 6.9 MB/s eta 0:00:01\r\u001b[K     |███████████████▏                | 614 kB 6.9 MB/s eta 0:00:01\r\u001b[K     |███████████████▍                | 624 kB 6.9 MB/s eta 0:00:01\r\u001b[K     |███████████████▋                | 634 kB 6.9 MB/s eta 0:00:01\r\u001b[K     |███████████████▉                | 645 kB 6.9 MB/s eta 0:00:01\r\u001b[K     |████████████████▏               | 655 kB 6.9 MB/s eta 0:00:01\r\u001b[K     |████████████████▍               | 665 kB 6.9 MB/s eta 0:00:01\r\u001b[K     |████████████████▋               | 675 kB 6.9 MB/s eta 0:00:01\r\u001b[K     |████████████████▉               | 686 kB 6.9 MB/s eta 0:00:01\r\u001b[K     |█████████████████▏              | 696 kB 6.9 MB/s eta 0:00:01\r\u001b[K     |█████████████████▍              | 706 kB 6.9 MB/s eta 0:00:01\r\u001b[K     |█████████████████▋              | 716 kB 6.9 MB/s eta 0:00:01\r\u001b[K     |██████████████████              | 727 kB 6.9 MB/s eta 0:00:01\r\u001b[K     |██████████████████▏             | 737 kB 6.9 MB/s eta 0:00:01\r\u001b[K     |██████████████████▍             | 747 kB 6.9 MB/s eta 0:00:01\r\u001b[K     |██████████████████▋             | 757 kB 6.9 MB/s eta 0:00:01\r\u001b[K     |███████████████████             | 768 kB 6.9 MB/s eta 0:00:01\r\u001b[K     |███████████████████▏            | 778 kB 6.9 MB/s eta 0:00:01\r\u001b[K     |███████████████████▍            | 788 kB 6.9 MB/s eta 0:00:01\r\u001b[K     |███████████████████▋            | 798 kB 6.9 MB/s eta 0:00:01\r\u001b[K     |████████████████████            | 808 kB 6.9 MB/s eta 0:00:01\r\u001b[K     |████████████████████▏           | 819 kB 6.9 MB/s eta 0:00:01\r\u001b[K     |████████████████████▍           | 829 kB 6.9 MB/s eta 0:00:01\r\u001b[K     |████████████████████▋           | 839 kB 6.9 MB/s eta 0:00:01\r\u001b[K     |█████████████████████           | 849 kB 6.9 MB/s eta 0:00:01\r\u001b[K     |█████████████████████▏          | 860 kB 6.9 MB/s eta 0:00:01\r\u001b[K     |█████████████████████▍          | 870 kB 6.9 MB/s eta 0:00:01\r\u001b[K     |█████████████████████▊          | 880 kB 6.9 MB/s eta 0:00:01\r\u001b[K     |██████████████████████          | 890 kB 6.9 MB/s eta 0:00:01\r\u001b[K     |██████████████████████▏         | 901 kB 6.9 MB/s eta 0:00:01\r\u001b[K     |██████████████████████▍         | 911 kB 6.9 MB/s eta 0:00:01\r\u001b[K     |██████████████████████▊         | 921 kB 6.9 MB/s eta 0:00:01\r\u001b[K     |███████████████████████         | 931 kB 6.9 MB/s eta 0:00:01\r\u001b[K     |███████████████████████▏        | 942 kB 6.9 MB/s eta 0:00:01\r\u001b[K     |███████████████████████▍        | 952 kB 6.9 MB/s eta 0:00:01\r\u001b[K     |███████████████████████▊        | 962 kB 6.9 MB/s eta 0:00:01\r\u001b[K     |████████████████████████        | 972 kB 6.9 MB/s eta 0:00:01\r\u001b[K     |████████████████████████▏       | 983 kB 6.9 MB/s eta 0:00:01\r\u001b[K     |████████████████████████▍       | 993 kB 6.9 MB/s eta 0:00:01\r\u001b[K     |████████████████████████▊       | 1.0 MB 6.9 MB/s eta 0:00:01\r\u001b[K     |█████████████████████████       | 1.0 MB 6.9 MB/s eta 0:00:01\r\u001b[K     |█████████████████████████▏      | 1.0 MB 6.9 MB/s eta 0:00:01\r\u001b[K     |█████████████████████████▌      | 1.0 MB 6.9 MB/s eta 0:00:01\r\u001b[K     |█████████████████████████▊      | 1.0 MB 6.9 MB/s eta 0:00:01\r\u001b[K     |██████████████████████████      | 1.1 MB 6.9 MB/s eta 0:00:01\r\u001b[K     |██████████████████████████▏     | 1.1 MB 6.9 MB/s eta 0:00:01\r\u001b[K     |██████████████████████████▌     | 1.1 MB 6.9 MB/s eta 0:00:01\r\u001b[K     |██████████████████████████▊     | 1.1 MB 6.9 MB/s eta 0:00:01\r\u001b[K     |███████████████████████████     | 1.1 MB 6.9 MB/s eta 0:00:01\r\u001b[K     |███████████████████████████▏    | 1.1 MB 6.9 MB/s eta 0:00:01\r\u001b[K     |███████████████████████████▌    | 1.1 MB 6.9 MB/s eta 0:00:01\r\u001b[K     |███████████████████████████▊    | 1.1 MB 6.9 MB/s eta 0:00:01\r\u001b[K     |████████████████████████████    | 1.1 MB 6.9 MB/s eta 0:00:01\r\u001b[K     |████████████████████████████▏   | 1.1 MB 6.9 MB/s eta 0:00:01\r\u001b[K     |████████████████████████████▌   | 1.2 MB 6.9 MB/s eta 0:00:01\r\u001b[K     |████████████████████████████▊   | 1.2 MB 6.9 MB/s eta 0:00:01\r\u001b[K     |█████████████████████████████   | 1.2 MB 6.9 MB/s eta 0:00:01\r\u001b[K     |█████████████████████████████▎  | 1.2 MB 6.9 MB/s eta 0:00:01\r\u001b[K     |█████████████████████████████▌  | 1.2 MB 6.9 MB/s eta 0:00:01\r\u001b[K     |█████████████████████████████▊  | 1.2 MB 6.9 MB/s eta 0:00:01\r\u001b[K     |██████████████████████████████  | 1.2 MB 6.9 MB/s eta 0:00:01\r\u001b[K     |██████████████████████████████▎ | 1.2 MB 6.9 MB/s eta 0:00:01\r\u001b[K     |██████████████████████████████▌ | 1.2 MB 6.9 MB/s eta 0:00:01\r\u001b[K     |██████████████████████████████▊ | 1.2 MB 6.9 MB/s eta 0:00:01\r\u001b[K     |███████████████████████████████ | 1.3 MB 6.9 MB/s eta 0:00:01\r\u001b[K     |███████████████████████████████▎| 1.3 MB 6.9 MB/s eta 0:00:01\r\u001b[K     |███████████████████████████████▌| 1.3 MB 6.9 MB/s eta 0:00:01\r\u001b[K     |███████████████████████████████▊| 1.3 MB 6.9 MB/s eta 0:00:01\r\u001b[K     |████████████████████████████████| 1.3 MB 6.9 MB/s eta 0:00:01\r\u001b[K     |████████████████████████████████| 1.3 MB 6.9 MB/s \n",
            "\u001b[?25hRequirement already satisfied: packaging in /usr/local/lib/python3.7/dist-packages (from transformers==3.5.1) (21.3)\n",
            "Requirement already satisfied: tqdm>=4.27 in /usr/local/lib/python3.7/dist-packages (from transformers==3.5.1) (4.62.3)\n",
            "Requirement already satisfied: filelock in /usr/local/lib/python3.7/dist-packages (from transformers==3.5.1) (3.4.2)\n",
            "Requirement already satisfied: protobuf in /usr/local/lib/python3.7/dist-packages (from transformers==3.5.1) (3.17.3)\n",
            "Collecting sentencepiece==0.1.91\n",
            "  Downloading sentencepiece-0.1.91-cp37-cp37m-manylinux1_x86_64.whl (1.1 MB)\n",
            "\u001b[K     |████████████████████████████████| 1.1 MB 52.1 MB/s \n",
            "\u001b[?25hRequirement already satisfied: regex!=2019.12.17 in /usr/local/lib/python3.7/dist-packages (from transformers==3.5.1) (2019.12.20)\n",
            "Collecting tokenizers==0.9.3\n",
            "  Downloading tokenizers-0.9.3-cp37-cp37m-manylinux1_x86_64.whl (2.9 MB)\n",
            "\u001b[K     |████████████████████████████████| 2.9 MB 46.6 MB/s \n",
            "\u001b[?25hRequirement already satisfied: numpy in /usr/local/lib/python3.7/dist-packages (from transformers==3.5.1) (1.19.5)\n",
            "Collecting sacremoses\n",
            "  Downloading sacremoses-0.0.47-py2.py3-none-any.whl (895 kB)\n",
            "\u001b[K     |████████████████████████████████| 895 kB 68.5 MB/s \n",
            "\u001b[?25hRequirement already satisfied: requests in /usr/local/lib/python3.7/dist-packages (from transformers==3.5.1) (2.23.0)\n",
            "Requirement already satisfied: pyparsing!=3.0.5,>=2.0.2 in /usr/local/lib/python3.7/dist-packages (from packaging->transformers==3.5.1) (3.0.6)\n",
            "Requirement already satisfied: six>=1.9 in /usr/local/lib/python3.7/dist-packages (from protobuf->transformers==3.5.1) (1.15.0)\n",
            "Requirement already satisfied: idna<3,>=2.5 in /usr/local/lib/python3.7/dist-packages (from requests->transformers==3.5.1) (2.10)\n",
            "Requirement already satisfied: certifi>=2017.4.17 in /usr/local/lib/python3.7/dist-packages (from requests->transformers==3.5.1) (2021.10.8)\n",
            "Requirement already satisfied: chardet<4,>=3.0.2 in /usr/local/lib/python3.7/dist-packages (from requests->transformers==3.5.1) (3.0.4)\n",
            "Requirement already satisfied: urllib3!=1.25.0,!=1.25.1,<1.26,>=1.21.1 in /usr/local/lib/python3.7/dist-packages (from requests->transformers==3.5.1) (1.24.3)\n",
            "Requirement already satisfied: joblib in /usr/local/lib/python3.7/dist-packages (from sacremoses->transformers==3.5.1) (1.1.0)\n",
            "Requirement already satisfied: click in /usr/local/lib/python3.7/dist-packages (from sacremoses->transformers==3.5.1) (7.1.2)\n",
            "Installing collected packages: tokenizers, sentencepiece, sacremoses, transformers\n",
            "Successfully installed sacremoses-0.0.47 sentencepiece-0.1.91 tokenizers-0.9.3 transformers-3.5.1\n"
          ]
        }
      ],
      "source": [
        "!pip install transformers==3.5.1"
      ]
    },
    {
      "cell_type": "code",
      "source": [
        "import torch\n",
        "from transformers import BertModel, BertTokenizer"
      ],
      "metadata": {
        "id": "OoNSQkyfLkbb"
      },
      "execution_count": null,
      "outputs": []
    },
    {
      "cell_type": "code",
      "source": [
        "model = BertModel.from_pretrained('bert-base-uncased', output_hidden_states=True)"
      ],
      "metadata": {
        "id": "KyQ8YV35MQCU"
      },
      "execution_count": 17,
      "outputs": []
    },
    {
      "cell_type": "code",
      "source": [
        "tokenizer = BertTokenizer.from_pretrained('bert-base-uncased')"
      ],
      "metadata": {
        "id": "uqJKHK7LOB9h"
      },
      "execution_count": 18,
      "outputs": []
    },
    {
      "cell_type": "code",
      "source": [
        "sentence = 'I love Paris'\n",
        "tokens = tokenizer.tokenize(sentence)\n",
        "print(tokens)"
      ],
      "metadata": {
        "colab": {
          "base_uri": "https://localhost:8080/"
        },
        "id": "MveU05yJOLEt",
        "outputId": "db94b22b-4ed5-4c4b-be2b-d1cc26cc9703"
      },
      "execution_count": 19,
      "outputs": [
        {
          "output_type": "stream",
          "name": "stdout",
          "text": [
            "['i', 'love', 'paris']\n"
          ]
        }
      ]
    },
    {
      "cell_type": "code",
      "source": [
        "tokens = ['[CLS]'] + tokens + ['[SEP]']\n",
        "print(tokens)"
      ],
      "metadata": {
        "colab": {
          "base_uri": "https://localhost:8080/"
        },
        "id": "_M_I5g_JOOif",
        "outputId": "2b34bff8-69e6-4bb3-93ec-5f3c0a97550b"
      },
      "execution_count": 20,
      "outputs": [
        {
          "output_type": "stream",
          "name": "stdout",
          "text": [
            "['[CLS]', 'i', 'love', 'paris', '[SEP]']\n"
          ]
        }
      ]
    },
    {
      "cell_type": "code",
      "source": [
        "# 패딩\n",
        "tokens = tokens + ['[PAD]'] + ['[PAD]']\n",
        "print(tokens)"
      ],
      "metadata": {
        "colab": {
          "base_uri": "https://localhost:8080/"
        },
        "id": "LCPHAJLQOcaP",
        "outputId": "58472b08-d8a2-47f1-a8ab-e014090111dc"
      },
      "execution_count": 21,
      "outputs": [
        {
          "output_type": "stream",
          "name": "stdout",
          "text": [
            "['[CLS]', 'i', 'love', 'paris', '[SEP]', '[PAD]', '[PAD]']\n"
          ]
        }
      ]
    },
    {
      "cell_type": "code",
      "source": [
        "# 어텐션 마스크 생성: [PAD]가 토큰이 아니라는 것을 명시\n",
        "attention_mask = [1 if i!= '[PAD]' else 0 for i in tokens]\n",
        "print(attention_mask)"
      ],
      "metadata": {
        "colab": {
          "base_uri": "https://localhost:8080/"
        },
        "id": "y4S3rB4QOmdi",
        "outputId": "b1a6234f-c8bf-4061-e2c3-ae947761824c"
      },
      "execution_count": 22,
      "outputs": [
        {
          "output_type": "stream",
          "name": "stdout",
          "text": [
            "[1, 1, 1, 1, 1, 0, 0]\n"
          ]
        }
      ]
    },
    {
      "cell_type": "code",
      "source": [
        "token_ids = tokenizer.convert_tokens_to_ids(tokens)\n",
        "print(token_ids)"
      ],
      "metadata": {
        "colab": {
          "base_uri": "https://localhost:8080/"
        },
        "id": "KGjOgLLXOv7u",
        "outputId": "66c33d60-862b-44b8-c8d9-4d9430c85930"
      },
      "execution_count": 23,
      "outputs": [
        {
          "output_type": "stream",
          "name": "stdout",
          "text": [
            "[101, 1045, 2293, 3000, 102, 0, 0]\n"
          ]
        }
      ]
    },
    {
      "cell_type": "code",
      "source": [
        "token_ids = torch.tensor(token_ids).unsqueeze(0)\n",
        "attention_mask = torch.tensor(attention_mask).unsqueeze(0)"
      ],
      "metadata": {
        "id": "i7-A0jbKO2ol"
      },
      "execution_count": 24,
      "outputs": []
    },
    {
      "cell_type": "code",
      "source": [
        "hidden_rep, cls_head, hidden_reps = model(token_ids, attention_mask=attention_mask)\n",
        "print(hidden_rep.shape)"
      ],
      "metadata": {
        "colab": {
          "base_uri": "https://localhost:8080/"
        },
        "id": "yxvJK6_aQKeu",
        "outputId": "c107e371-897b-4bdc-b1c8-d8b092e1d835"
      },
      "execution_count": 26,
      "outputs": [
        {
          "output_type": "stream",
          "name": "stdout",
          "text": [
            "torch.Size([1, 7, 768])\n"
          ]
        }
      ]
    },
    {
      "cell_type": "code",
      "source": [
        "print(cls_head.shape)"
      ],
      "metadata": {
        "colab": {
          "base_uri": "https://localhost:8080/"
        },
        "id": "YNjuAbR0STFn",
        "outputId": "ff144577-6c7d-4b16-9a4d-b5c1db92c088"
      },
      "execution_count": null,
      "outputs": [
        {
          "output_type": "stream",
          "name": "stdout",
          "text": [
            "torch.Size([1, 768])\n"
          ]
        }
      ]
    },
    {
      "cell_type": "code",
      "source": [
        "len(hidden_reps)"
      ],
      "metadata": {
        "colab": {
          "base_uri": "https://localhost:8080/"
        },
        "id": "rTwsORKdikHq",
        "outputId": "38d596d4-d21a-49ee-e337-d0a0d8776320"
      },
      "execution_count": 28,
      "outputs": [
        {
          "output_type": "execute_result",
          "data": {
            "text/plain": [
              "13"
            ]
          },
          "metadata": {},
          "execution_count": 28
        }
      ]
    },
    {
      "cell_type": "markdown",
      "source": [
        "`hidden_reps[x]`은 입력 임베딩 레이어($h_x$)에서 얻은 모든 토큰의 표현 벡터를 가진다."
      ],
      "metadata": {
        "id": "jfZO9Ubmix6k"
      }
    }
  ]
}