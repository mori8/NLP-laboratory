{
  "nbformat": 4,
  "nbformat_minor": 0,
  "metadata": {
    "colab": {
      "name": "word2vec-skip-gram.ipynb",
      "provenance": [],
      "authorship_tag": "ABX9TyPLiHbCM5YxT9nrSt+ovjiR",
      "include_colab_link": true
    },
    "kernelspec": {
      "name": "python3",
      "display_name": "Python 3"
    },
    "language_info": {
      "name": "python"
    }
  },
  "cells": [
    {
      "cell_type": "markdown",
      "metadata": {
        "id": "view-in-github",
        "colab_type": "text"
      },
      "source": [
        "<a href=\"https://colab.research.google.com/github/mori8/NLP-laboratory/blob/main/word2vec_skip_gram.ipynb\" target=\"_parent\"><img src=\"https://colab.research.google.com/assets/colab-badge.svg\" alt=\"Open In Colab\"/></a>"
      ]
    },
    {
      "cell_type": "markdown",
      "metadata": {
        "id": "yeJc0677Rw9Z"
      },
      "source": [
        "1. One Hot Vector 형태의 입력값을 받는다.\n",
        "- [say] -> [you] 예측\n",
        "- [say] -> [goodbye] 예측\n",
        "  - 주변 단어: 주변에 있는 단어(you, goodbye)\n",
        "  - 중심 단어: 중간에 있는 단어(say)\n",
        "  - 윈도우 크기: 주변 몇 칸까지 볼 지에 대한 크기(여기서는 1)"
      ]
    },
    {
      "cell_type": "markdown",
      "metadata": {
        "id": "pmvLriKPSjfS"
      },
      "source": [
        "2. one-hot vector 형태의 입력값을 W_in과 곱한다."
      ]
    },
    {
      "cell_type": "code",
      "metadata": {
        "id": "ovVDrd5BTHiI"
      },
      "source": [
        "# 문장: You say goodbye and I say hello.\n",
        "# 단어: you, say, goodbye, and, I, hello, ."
      ],
      "execution_count": 31,
      "outputs": []
    },
    {
      "cell_type": "code",
      "metadata": {
        "id": "kEstkAKVQGhc"
      },
      "source": [
        "import numpy as np\n",
        "\n",
        "input_vector = np.array([0, 1, 0, 0, 0, 0, 0]) # say\n",
        "\n",
        "output1 = np.array([[1, 0, 0, 0, 0, 0, 0]]) # you\n",
        "output2 = np.array([[0, 0, 1, 0, 0, 0, 0]]) # goodbye"
      ],
      "execution_count": 32,
      "outputs": []
    },
    {
      "cell_type": "code",
      "metadata": {
        "id": "AWFiaPu9RK7W"
      },
      "source": [
        "# (입력 x 차원의 크기) - 차원의 크기는 사용자가 선정\n",
        "# 초기의 weight는 랜덤하게 결정됨\n",
        "W_in = np.random.randn(7, 3)"
      ],
      "execution_count": 33,
      "outputs": []
    },
    {
      "cell_type": "code",
      "metadata": {
        "id": "YkjkO2RbRUOJ"
      },
      "source": [
        "h = np.matmul(input_vector, W_in) # h = 은닉층의 값"
      ],
      "execution_count": 34,
      "outputs": []
    },
    {
      "cell_type": "code",
      "metadata": {
        "colab": {
          "base_uri": "https://localhost:8080/"
        },
        "id": "_RH_hLE3Ra81",
        "outputId": "aca4b3e6-38d5-43cb-d8fc-4bb201d5544c"
      },
      "source": [
        "print(h)"
      ],
      "execution_count": 35,
      "outputs": [
        {
          "output_type": "stream",
          "name": "stdout",
          "text": [
            "[-2.56575175 -0.39806727 -1.45554442]\n"
          ]
        }
      ]
    },
    {
      "cell_type": "markdown",
      "metadata": {
        "id": "3yATComlSrHc"
      },
      "source": [
        "3. hidden state의 값을 W_out과 곱해 score를 계산한다.\n",
        "4. score에 softmax를 취해서 각 단어가 나올 **확률**을 계산한다."
      ]
    },
    {
      "cell_type": "code",
      "metadata": {
        "colab": {
          "base_uri": "https://localhost:8080/"
        },
        "id": "gGzDCU3hRfJt",
        "outputId": "4bf4ce56-f4be-4531-e52c-f5f27dd0bb10"
      },
      "source": [
        "W_out = np.random.randn(3, 7)\n",
        "score = np.matmul(h, W_out)\n",
        "print(np.round(score, 4))"
      ],
      "execution_count": 36,
      "outputs": [
        {
          "output_type": "stream",
          "name": "stdout",
          "text": [
            "[-4.7568  3.6403 -3.1095  0.0146 -4.425  -0.1039  2.1312]\n"
          ]
        }
      ]
    },
    {
      "cell_type": "code",
      "metadata": {
        "id": "kk5q6GVhVnVe"
      },
      "source": [
        "def softmax(x):\n",
        "    \"\"\"Compute softmax values for each sets of scores in x.\"\"\"\n",
        "    e_x = np.exp(x - np.max(x))\n",
        "    return e_x / e_x.sum()"
      ],
      "execution_count": 37,
      "outputs": []
    },
    {
      "cell_type": "code",
      "metadata": {
        "colab": {
          "base_uri": "https://localhost:8080/"
        },
        "id": "l8iw1vNbVWOz",
        "outputId": "d69ad594-2f40-4e5f-e89f-e6b8db594dbd"
      },
      "source": [
        "pred = softmax(score)\n",
        "print(np.round(pred, 4))"
      ],
      "execution_count": 38,
      "outputs": [
        {
          "output_type": "stream",
          "name": "stdout",
          "text": [
            "[2.000e-04 7.855e-01 9.000e-04 2.090e-02 2.000e-04 1.860e-02 1.737e-01]\n"
          ]
        }
      ]
    },
    {
      "cell_type": "markdown",
      "metadata": {
        "id": "VmHVXobPUCqL"
      },
      "source": [
        "5. 정답과 Cross Entropy Loss를 계산한다.\n",
        "- 예측: [[**0.1127** 0.0112 **0.5074** 0.0046 0.0084 0.01 0.3457]]\n",
        "- 정답: [**1**, 0, **1**, 0, 0, 0, 0]\n",
        "  - 한번에 업데이트 진행\n",
        "\n",
        "6. 5에서 계산한 Loss를 가지고 Backpropagation 과정을 통해서 Weight를 업데이트\n",
        "- 두 개의 결과(윈도우 크기가 1이니 양쪽에서 한 개씩 총 2개)에 대한 오차를 더함\n",
        "- W_out에 대해 역전파값을 계산\n",
        "- W_in에 대해서 Update 진행"
      ]
    },
    {
      "cell_type": "code",
      "metadata": {
        "colab": {
          "base_uri": "https://localhost:8080/"
        },
        "id": "JIvMg9CQTDKy",
        "outputId": "1b02a37e-5098-4ab8-dffb-3e449f8c7098"
      },
      "source": [
        "ds1 = np.round(pred - output1, 4)\n",
        "ds2 = np.round(pred - output2, 4)\n",
        "ds = ds1 + ds2\n",
        "print(ds)"
      ],
      "execution_count": 39,
      "outputs": [
        {
          "output_type": "stream",
          "name": "stdout",
          "text": [
            "[[-9.996e-01  1.571e+00 -9.982e-01  4.180e-02  4.000e-04  3.720e-02\n",
            "   3.474e-01]]\n"
          ]
        }
      ]
    },
    {
      "cell_type": "code",
      "metadata": {
        "colab": {
          "base_uri": "https://localhost:8080/"
        },
        "id": "MC3IZ5bIU5Ye",
        "outputId": "67906b13-7a48-4a34-89fc-895b5096b6f3"
      },
      "source": [
        "dw_out = np.round(np.outer(h, ds), 4)\n",
        "print(dw_out)"
      ],
      "execution_count": 40,
      "outputs": [
        {
          "output_type": "stream",
          "name": "stdout",
          "text": [
            "[[ 2.5647e+00 -4.0308e+00  2.5611e+00 -1.0720e-01 -1.0000e-03 -9.5400e-02\n",
            "  -8.9130e-01]\n",
            " [ 3.9790e-01 -6.2540e-01  3.9740e-01 -1.6600e-02 -2.0000e-04 -1.4800e-02\n",
            "  -1.3830e-01]\n",
            " [ 1.4550e+00 -2.2867e+00  1.4529e+00 -6.0800e-02 -6.0000e-04 -5.4100e-02\n",
            "  -5.0570e-01]]\n"
          ]
        }
      ]
    },
    {
      "cell_type": "code",
      "metadata": {
        "colab": {
          "base_uri": "https://localhost:8080/"
        },
        "id": "4zyhxMuii_uO",
        "outputId": "c1a11ad4-9c6a-4660-f0cb-7442cc20ddcb"
      },
      "source": [
        "da = np.dot(ds, W_out.T)\n",
        "print(np.round(da, 4))"
      ],
      "execution_count": 41,
      "outputs": [
        {
          "output_type": "stream",
          "name": "stdout",
          "text": [
            "[[-3.6521 -3.3967 -2.4668]]\n"
          ]
        }
      ]
    },
    {
      "cell_type": "code",
      "metadata": {
        "colab": {
          "base_uri": "https://localhost:8080/"
        },
        "id": "m7nmBZg3jM-s",
        "outputId": "d70af0c5-370b-4763-d8cd-3a8d21b0d2f9"
      },
      "source": [
        "dw_in = np.outer(np.array([0, 1, 0, 0, 0, 0, 0]), da)\n",
        "print(np.round(dw_in, 4))"
      ],
      "execution_count": 42,
      "outputs": [
        {
          "output_type": "stream",
          "name": "stdout",
          "text": [
            "[[-0.     -0.     -0.    ]\n",
            " [-3.6521 -3.3967 -2.4668]\n",
            " [-0.     -0.     -0.    ]\n",
            " [-0.     -0.     -0.    ]\n",
            " [-0.     -0.     -0.    ]\n",
            " [-0.     -0.     -0.    ]\n",
            " [-0.     -0.     -0.    ]]\n"
          ]
        }
      ]
    },
    {
      "cell_type": "code",
      "metadata": {
        "colab": {
          "base_uri": "https://localhost:8080/"
        },
        "id": "KhvHAgQGjdHn",
        "outputId": "548bf487-c868-4f19-b796-f9fa278f2c5f"
      },
      "source": [
        "# W_in에 대해서 Update 진행\n",
        "learning_rate = 1\n",
        "W_in_new = W_in - learning_rate * dw_in\n",
        "print(np.round(W_in_new, 4))"
      ],
      "execution_count": 43,
      "outputs": [
        {
          "output_type": "stream",
          "name": "stdout",
          "text": [
            "[[ 1.0000e-04  8.0730e-01 -2.3840e+00]\n",
            " [ 1.0864e+00  2.9987e+00  1.0113e+00]\n",
            " [-5.3300e-02 -1.8743e+00 -5.4310e-01]\n",
            " [ 1.1630e-01  4.9160e-01  1.8909e+00]\n",
            " [ 9.5220e-01 -9.3220e-01  1.0922e+00]\n",
            " [-6.7350e-01  1.0654e+00 -1.0437e+00]\n",
            " [ 1.0761e+00  1.8980e-01 -6.5490e-01]]\n"
          ]
        }
      ]
    },
    {
      "cell_type": "code",
      "metadata": {
        "colab": {
          "base_uri": "https://localhost:8080/"
        },
        "id": "-Lgzd0VRnj1P",
        "outputId": "61dde190-d8bb-4eb7-9ad9-2f407669d461"
      },
      "source": [
        "print(np.round(W_in, 4))"
      ],
      "execution_count": 44,
      "outputs": [
        {
          "output_type": "stream",
          "name": "stdout",
          "text": [
            "[[ 1.0000e-04  8.0730e-01 -2.3840e+00]\n",
            " [-2.5658e+00 -3.9810e-01 -1.4555e+00]\n",
            " [-5.3300e-02 -1.8743e+00 -5.4310e-01]\n",
            " [ 1.1630e-01  4.9160e-01  1.8909e+00]\n",
            " [ 9.5220e-01 -9.3220e-01  1.0922e+00]\n",
            " [-6.7350e-01  1.0654e+00 -1.0437e+00]\n",
            " [ 1.0761e+00  1.8980e-01 -6.5490e-01]]\n"
          ]
        }
      ]
    },
    {
      "cell_type": "markdown",
      "metadata": {
        "id": "Tx0zu-Hw7NtK"
      },
      "source": [
        "7. 위 과정을 다른 문맥에 대해서도 반복 수행"
      ]
    },
    {
      "cell_type": "markdown",
      "metadata": {
        "id": "hmg0jfSbrNoC"
      },
      "source": [
        "### gensim 패키지의 Word2Vec을 이용"
      ]
    },
    {
      "cell_type": "code",
      "metadata": {
        "colab": {
          "base_uri": "https://localhost:8080/"
        },
        "id": "ioALAndlnqtW",
        "outputId": "b98d8353-f753-4051-c190-c47ffee615c1"
      },
      "source": [
        "from gensim.models import Word2Vec\n",
        "\n",
        "docs = ['you say goodbye and I say hello.']\n",
        "\n",
        "sentences = [list(sentence.split(' ')) for sentence in docs]\n",
        "model = Word2Vec(size=3, window=1, min_count=1, sg=1)\n",
        "model.build_vocab(sentences)\n",
        "model.wv.most_similar(\"say\")"
      ],
      "execution_count": 45,
      "outputs": [
        {
          "output_type": "execute_result",
          "data": {
            "text/plain": [
              "[('and', 0.9665473699569702),\n",
              " ('you', 0.5921512246131897),\n",
              " ('hello.', 0.4940755069255829),\n",
              " ('goodbye', 0.4343804717063904),\n",
              " ('I', -0.7611031532287598)]"
            ]
          },
          "metadata": {},
          "execution_count": 45
        }
      ]
    },
    {
      "cell_type": "code",
      "metadata": {
        "id": "ZHx9aL8h75-h"
      },
      "source": [
        "# https://www.youtube.com/watch?v=3jfHP0Rq1Gg"
      ],
      "execution_count": null,
      "outputs": []
    }
  ]
}